{
 "cells": [
  {
   "cell_type": "markdown",
   "metadata": {},
   "source": [
    "# Star Class\n",
    "\n",
    "The `Star` Class within SORA was created to deal with the star information. The documentation <a href=https://sora.readthedocs.io/>here</a> contains the details about every step.  \n",
    "\n",
    "This Jupyter-Notebook was designed as a tutorial for how to work with the `Star` Class. Any further question, please contact the core team: Altair Ramos Gomes Júnior, Bruno Eduardo Morgado, Gustavo Benedetti Rossi, and Rodrigo Carlos Boufleur.\n",
    "\n",
    "**The** `Star` **Docstring was designed to help the users. Also, each function has its Docstring containing its main purpose and the needed parameters (physical description and formats). Please, do not hesitate to use it.**\n",
    "\n",
    "## 0. Index\n",
    "\n",
    "1. [Instantiating a Star Object](#section_1)\n",
    "2. [Changing or including magnitudes](#section_2)\n",
    "3. [Propagated positions](#section_3)\n",
    "4. [Adding offsets](#section_4)\n",
    "5. [The Apparent Diameter of the star](#section_5)"
   ]
  },
  {
   "cell_type": "code",
   "execution_count": 1,
   "metadata": {},
   "outputs": [
    {
     "name": "stdout",
     "output_type": "stream",
     "text": [
      "SORA version: 0.2\n"
     ]
    }
   ],
   "source": [
    "## import the Star Class\n",
    "from sora.star import Star\n",
    "\n",
    "## To facilitate, sora allows to import Star directly from the root\n",
    "from sora import Star"
   ]
  },
  {
   "cell_type": "markdown",
   "metadata": {},
   "source": [
    "<a id=\"section_1\"></a>\n",
    "\n",
    "## 1. Instantiating Star Object\n",
    "\n",
    "The `Star` Class can be instantiated in different ways. Using the Gaia-DR2 or Gaia-EDR3 Source ID, then all the informations of the stars (RA, DEC, parallax, proper motions, G magnitude and star radius) will be downloaded from VizieR. Using a coordinate, then the Gaia-EDR3 (or Gaia-DR2) star will be searched in VizieR within a radius of 2 arcsec. If more than 1 star is found, the user will be asked to choose the correct one.\n",
    "\n",
    "`Star` can also download the B, V, R, J, H and K magnitudes from the NOMAD catalogue. This is useful for calculating the apparent diameter of a star using van Belle's or Kevella's methods. If more than 1 star is found within 2 arcsec from the given coordinate, the user will be asked to choose the correct one."
   ]
  },
  {
   "cell_type": "code",
   "execution_count": 2,
   "metadata": {},
   "outputs": [
    {
     "data": {
      "text/plain": [
       "\u001b[0;31mInit signature:\u001b[0m \u001b[0mStar\u001b[0m\u001b[0;34m(\u001b[0m\u001b[0mcatalogue\u001b[0m\u001b[0;34m=\u001b[0m\u001b[0;34m'gaiaedr3'\u001b[0m\u001b[0;34m,\u001b[0m \u001b[0;34m**\u001b[0m\u001b[0mkwargs\u001b[0m\u001b[0;34m)\u001b[0m\u001b[0;34m\u001b[0m\u001b[0;34m\u001b[0m\u001b[0m\n",
       "\u001b[0;31mDocstring:\u001b[0m     \n",
       "Defines a star.\n",
       "\n",
       "Parameters\n",
       "----------\n",
       "catalogue : `str`\n",
       "    The catalogue to download data. It can be ``'gaiadr2'`` or ``'gaiaedr3'``.\n",
       "\n",
       "code : `str`\n",
       "    Gaia Source code for searching in VizieR.\n",
       "\n",
       "coord : `str`, `astropy.coordinates.SkyCoord`\n",
       "    If code is not given, coord nust have the coordinates RA and DEC of the\n",
       "    star to search in VizieR: ``'hh mm ss.ss +dd mm ss.ss'``.\n",
       "\n",
       "ra : `int`, `float`\n",
       "    Right Ascension, in deg.\n",
       "\n",
       "dec : `int`, `float`\n",
       "    Declination, in deg.\n",
       "\n",
       "parallax : `int`, `float`. default=0\n",
       "    Parallax, in mas.\n",
       "\n",
       "pmra : `int`, `float`, default=0\n",
       "    Proper Motion in RA*, in mas/year.\n",
       "\n",
       "pmdec : `int`, `float`, default=0\n",
       "    Proper Motion in DEC, in mas/year.\n",
       "\n",
       "rad_vel : `int`, `float`, default=0\n",
       "    Radial Velocity, in km/s.\n",
       "\n",
       "epoch : `str`, `astropy.time.Time`, default='J2000'\n",
       "    Epoch of the coordinates.\n",
       "\n",
       "nomad : `bool`\n",
       "    If True, it tries to download the magnitudes from NOMAD catalogue.\n",
       "\n",
       "bjones : `bool`, default=True\n",
       "    If True, it uses de star distance from Bailer-Jones et al. (2018).\n",
       "\n",
       "verbose : `bool`, default=True\n",
       "    If True, it prints the downloaded information\n",
       "\n",
       "local : `bool`, default=False\n",
       "    If True, it uses the given coordinate in 'coord' as final coordinate.\n",
       "\n",
       "Note\n",
       "----\n",
       "The user can give either 'coord' or 'ra' and 'dec', but not both.\n",
       "\n",
       "To download the coordinates from Gaia, \"local\" must be set as False\n",
       "and the (\"code\") or (\"coord\") or (\"ra\" and \"dec\") must be given.\n",
       "\n",
       "All values downloaded from Gaia will replace the ones given by the user.\n",
       "\u001b[0;31mFile:\u001b[0m           ~/anaconda3/lib/python3.8/site-packages/sora/star/core.py\n",
       "\u001b[0;31mType:\u001b[0m           type\n",
       "\u001b[0;31mSubclasses:\u001b[0m     \n"
      ]
     },
     "metadata": {},
     "output_type": "display_data"
    }
   ],
   "source": [
    "Star?"
   ]
  },
  {
   "cell_type": "markdown",
   "metadata": {},
   "source": [
    "**Searching by Gaia Source ID**"
   ]
  },
  {
   "cell_type": "code",
   "execution_count": 3,
   "metadata": {},
   "outputs": [
    {
     "name": "stdout",
     "output_type": "stream",
     "text": [
      "\n",
      "Downloading star parameters from I/350/gaiaedr3\n",
      "1 Gaia-EDR3 star found G=15.341292\n",
      "star coordinate at J2016.0: RA=15h04m17.67141s +/- 0.0307 mas, DEC=-16d19m38.9718s +/- 0.0241 mas\n",
      "\n",
      "Downloading star parameters from I/297/out\n"
     ]
    }
   ],
   "source": [
    "star = Star(code='6306109685386306688')"
   ]
  },
  {
   "cell_type": "code",
   "execution_count": 4,
   "metadata": {},
   "outputs": [
    {
     "name": "stdout",
     "output_type": "stream",
     "text": [
      "Gaia-EDR3 star Source ID: 6306109685386306688\n",
      "ICRS star coordinate at J2016.0:\n",
      "RA=15h04m17.67141s +/- 0.0307 mas, DEC=-16d19m38.9718s +/- 0.0241 mas\n",
      "pmRA=6.286 +/- 0.040 mas/yr, pmDEC=-9.632 +/- 0.033 mas/yr\n",
      "Plx=0.8595 +/- 0.0332 mas, Rad. Vel.=0.00 +/- 0.00 km/s \n",
      "\n",
      "Magnitudes: G: 15.341, B: 15.460, V: 14.680, R: 15.240, J: 14.121, H: 13.773,\n",
      "            K: 13.643\n",
      "\n",
      "Apparent diameter from Kervella et. al (2004):\n",
      "    V: 0.0074 mas, B: 0.0077 mas\n",
      "Apparent diameter from van Belle (1999):\n",
      "    sg: B: 0.0090 mas, V: 0.0092 mas\n",
      "    ms: B: 0.0086 mas, V: 0.0069 mas\n",
      "    vs: B: 0.0135 mas, V: 0.0120 mas\n"
     ]
    }
   ],
   "source": [
    "print(star)"
   ]
  },
  {
   "cell_type": "markdown",
   "metadata": {},
   "source": [
    "**Searching by coordinate**"
   ]
  },
  {
   "cell_type": "code",
   "execution_count": 5,
   "metadata": {},
   "outputs": [
    {
     "name": "stdout",
     "output_type": "stream",
     "text": [
      "\n",
      "Downloading star parameters from I/350/gaiaedr3\n",
      "2 stars were found within 2 arcsec from given coordinate.\n",
      "The list below is sorted by distance. Please select the correct star\n",
      "num dist(\")  Gmag         RA___ICRS___DEC        \n",
      "--- ------- ------ ------------------------------\n",
      "  1   0.022 15.589 18h22m00.2584s -22d28m10.6860s\n",
      "  2   2.009 19.981 18h22m00.3855s -22d28m09.7559s\n",
      "  0: Cancel\n"
     ]
    },
    {
     "name": "stdin",
     "output_type": "stream",
     "text": [
      "Choose the corresponding number of the correct star:  1\n"
     ]
    },
    {
     "name": "stdout",
     "output_type": "stream",
     "text": [
      "1 Gaia-EDR3 star found G=15.589052\n",
      "star coordinate at J2016.0: RA=18h22m00.25843s +/- 0.0357 mas, DEC=-22d28m10.6860s +/- 0.0313 mas\n",
      "\n",
      "Downloading star parameters from I/297/out\n",
      "2 stars were found within 2 arcsec from given coordinate.\n",
      "The list below is sorted by distance. Please select the correct star\n",
      "num dist(\")  Bmag   Vmag   Rmag   Jmag   Hmag   Kmag         RA___ICRS___DEC        \n",
      "--- ------- ------ ------ ------ ------ ------ ------ ------------------------------\n",
      "  1   0.718 17.600    nan    nan    nan    nan    nan 18h22m00.2627s -22d28m09.9700s\n",
      "  2   1.774 18.330    nan 14.500 12.419 11.471 11.128 18h22m00.1313s -22d28m10.8901s\n",
      "  0: Cancel\n"
     ]
    },
    {
     "name": "stdin",
     "output_type": "stream",
     "text": [
      "Choose the corresponding number of the correct star:  2\n"
     ]
    },
    {
     "name": "stdout",
     "output_type": "stream",
     "text": [
      "Magnitudes in ['V'] were not located in NOMAD\n"
     ]
    }
   ],
   "source": [
    "star2 = Star(coord='18 22 00.25777 -22 28 10.7057')"
   ]
  },
  {
   "cell_type": "markdown",
   "metadata": {},
   "source": [
    "Note that there are warnings if it does not find some information (in this case, the magnitudes from NOMAD)"
   ]
  },
  {
   "cell_type": "markdown",
   "metadata": {},
   "source": [
    "By default, the `Star` object will search by a Gaia-EDR3 star. However, the user can also set that Gaia-DR2 catalogue should be used instead."
   ]
  },
  {
   "cell_type": "code",
   "execution_count": 6,
   "metadata": {},
   "outputs": [
    {
     "name": "stdout",
     "output_type": "stream",
     "text": [
      "\n",
      "Downloading star parameters from I/345/gaia2\n",
      "1 Gaia-DR2 star found G=15.3528\n",
      "star coordinate at J2015.5: RA=15h04m17.67119s +/- 0.0432 mas, DEC=-16d19m38.9668s +/- 0.0309 mas\n",
      "\n",
      "Downloading star parameters from I/297/out\n"
     ]
    }
   ],
   "source": [
    "star_3 = Star(code='6306109685386306688', catalogue='gaiadr2')"
   ]
  },
  {
   "cell_type": "markdown",
   "metadata": {},
   "source": [
    "<a id=\"section_2\"></a>\n",
    "\n",
    "## 2. Changing or including magnitudes\n",
    "\n",
    "If one necessary magnituge in a specific band is not found in NOMAD or the user wants to add a different value to be saved in the Star history, it can be done with set_magnitude"
   ]
  },
  {
   "cell_type": "code",
   "execution_count": 7,
   "metadata": {},
   "outputs": [
    {
     "data": {
      "text/plain": [
       "\u001b[0;31mSignature:\u001b[0m \u001b[0mstar\u001b[0m\u001b[0;34m.\u001b[0m\u001b[0mset_magnitude\u001b[0m\u001b[0;34m(\u001b[0m\u001b[0;34m**\u001b[0m\u001b[0mkwargs\u001b[0m\u001b[0;34m)\u001b[0m\u001b[0;34m\u001b[0m\u001b[0;34m\u001b[0m\u001b[0m\n",
       "\u001b[0;31mDocstring:\u001b[0m\n",
       "Sets the magnitudes of a star.\n",
       "\n",
       "Parameters\n",
       "----------\n",
       "band=value : `str`\n",
       "    The star magnitude for given band. The band name can be any string\n",
       "    the user wants.\n",
       "\n",
       "Examples\n",
       "--------\n",
       "To set the stars magnitude in the band G:\n",
       "\n",
       ">>> set_magnitude(G=10)\n",
       "\n",
       "To set the star's magnitude in the band K:\n",
       "\n",
       ">>> set_magnitude(K=15)\n",
       "\n",
       "To set the star's magnitude in a customized band:\n",
       "\n",
       ">>> set_magnitude(newband=6)\n",
       "\u001b[0;31mFile:\u001b[0m      ~/anaconda3/lib/python3.8/site-packages/sora/star/core.py\n",
       "\u001b[0;31mType:\u001b[0m      method\n"
      ]
     },
     "metadata": {},
     "output_type": "display_data"
    }
   ],
   "source": [
    "star.set_magnitude?"
   ]
  },
  {
   "cell_type": "code",
   "execution_count": 8,
   "metadata": {},
   "outputs": [
    {
     "name": "stderr",
     "output_type": "stream",
     "text": [
      "/home/morgado/anaconda3/lib/python3.8/site-packages/sora/star/core.py:147: UserWarning: V mag already defined. V=14.680000305175781 will be replaced by V=14.0\n",
      "  warnings.warn('{0} mag already defined. {0}={1} will be replaced by {0}={2}'.format(\n"
     ]
    }
   ],
   "source": [
    "# Changing an already existing band will show a warning, but the change is done.\n",
    "star.set_magnitude(V=14)"
   ]
  },
  {
   "cell_type": "code",
   "execution_count": 9,
   "metadata": {},
   "outputs": [
    {
     "data": {
      "text/plain": [
       "{'G': 15.341292,\n",
       " 'B': 15.460000038146973,\n",
       " 'V': 14.0,\n",
       " 'R': 15.239999771118164,\n",
       " 'J': 14.121000289916992,\n",
       " 'H': 13.77299976348877,\n",
       " 'K': 13.642999649047852}"
      ]
     },
     "execution_count": 9,
     "metadata": {},
     "output_type": "execute_result"
    }
   ],
   "source": [
    "star.mag"
   ]
  },
  {
   "cell_type": "markdown",
   "metadata": {},
   "source": [
    "set_magnitude does not have any pre-set band name, so the user can give whatever the name of the band. It must a string though."
   ]
  },
  {
   "cell_type": "code",
   "execution_count": 10,
   "metadata": {},
   "outputs": [],
   "source": [
    "star2.set_magnitude(x_ray=15, ultraviolet=10)"
   ]
  },
  {
   "cell_type": "code",
   "execution_count": 11,
   "metadata": {},
   "outputs": [
    {
     "data": {
      "text/plain": [
       "{'G': 15.589052,\n",
       " 'B': 18.329999923706055,\n",
       " 'R': 14.5,\n",
       " 'J': 12.418999671936035,\n",
       " 'H': 11.470999717712402,\n",
       " 'K': 11.128000259399414,\n",
       " 'x_ray': 15.0,\n",
       " 'ultraviolet': 10.0}"
      ]
     },
     "execution_count": 11,
     "metadata": {},
     "output_type": "execute_result"
    }
   ],
   "source": [
    "star2.mag"
   ]
  },
  {
   "cell_type": "markdown",
   "metadata": {},
   "source": [
    "<a id=\"section_3\"></a>\n",
    "\n",
    "## 3. Propagated positions\n",
    "\n",
    "If the proper motion and parallax is found in the Gaia catalogue, the user can see the ICRS coordinate of the star at any epoch. It can be barycentric (corrected from proper motion), geocentric (corrected from proper motion and parallax), or for any Observer object.\n",
    "\n",
    "The returned variable is an Astropy `SkyCoord` object."
   ]
  },
  {
   "cell_type": "code",
   "execution_count": 12,
   "metadata": {},
   "outputs": [
    {
     "name": "stdout",
     "output_type": "stream",
     "text": [
      "<SkyCoord (ICRS): (ra, dec, distance) in (deg, deg, pc)\n",
      "    (275.50107681, -22.46963499, 8467.40050804)>\n"
     ]
    }
   ],
   "source": [
    "# The coord attribute shows the values kept for the star in RA, DEC, distance, proper motion and radial velocity\n",
    "print(star2.coord)"
   ]
  },
  {
   "cell_type": "code",
   "execution_count": 13,
   "metadata": {},
   "outputs": [
    {
     "name": "stdout",
     "output_type": "stream",
     "text": [
      "18h22m00.2584s -22d28m10.686s\n"
     ]
    }
   ],
   "source": [
    "print(star2.coord.to_string('hmsdms'))"
   ]
  },
  {
   "cell_type": "code",
   "execution_count": 14,
   "metadata": {},
   "outputs": [
    {
     "data": {
      "text/plain": [
       "\u001b[0;31mSignature:\u001b[0m \u001b[0mstar2\u001b[0m\u001b[0;34m.\u001b[0m\u001b[0mget_position\u001b[0m\u001b[0;34m(\u001b[0m\u001b[0mtime\u001b[0m\u001b[0;34m,\u001b[0m \u001b[0mobserver\u001b[0m\u001b[0;34m=\u001b[0m\u001b[0;34m'geocenter'\u001b[0m\u001b[0;34m)\u001b[0m\u001b[0;34m\u001b[0m\u001b[0;34m\u001b[0m\u001b[0m\n",
       "\u001b[0;31mDocstring:\u001b[0m\n",
       "Calculates the position of the star for given observer,\n",
       "propagating the position using parallax and proper motion\n",
       "\n",
       "Parameters\n",
       "----------\n",
       "time : `float`, `astropy.time.Time`\n",
       "    Reference time to apply proper motion and calculate parallax. It can be a string\n",
       "    in the ISO format (yyyy-mm-dd hh:mm:ss.s) or an astropy Time object.\n",
       "\n",
       "observer : `str`, `sora.observer.Observer`, `sora.observer.Spacecraft`\n",
       "    Observer of the star t calculate position. It can be 'geocenter' for a geocentric\n",
       "    coordinate, 'barycenter' for a barycenter coordinate, or a sora observer object.\n",
       "\n",
       "Returns\n",
       "-------\n",
       "coord : `astropy.coordinates.SkyCoord`\n",
       "    Astropy SkyCoord object with the star coordinates at the given time.\n",
       "\u001b[0;31mFile:\u001b[0m      ~/anaconda3/lib/python3.8/site-packages/sora/star/core.py\n",
       "\u001b[0;31mType:\u001b[0m      method\n"
      ]
     },
     "metadata": {},
     "output_type": "display_data"
    }
   ],
   "source": [
    "star2.get_position?"
   ]
  },
  {
   "cell_type": "code",
   "execution_count": 15,
   "metadata": {},
   "outputs": [
    {
     "name": "stdout",
     "output_type": "stream",
     "text": [
      "18h22m00.2573114293s -22d28m10.7210625155s\n"
     ]
    }
   ],
   "source": [
    "pos = star2.get_position(time='2020-05-15 00:00:00', observer='barycenter')\n",
    "print(pos.to_string('hmsdms', precision=10))"
   ]
  },
  {
   "cell_type": "code",
   "execution_count": 16,
   "metadata": {},
   "outputs": [
    {
     "name": "stdout",
     "output_type": "stream",
     "text": [
      "18h22m00.2573170776s -22d28m10.7210581734s\n"
     ]
    }
   ],
   "source": [
    "pos = star2.get_position(time='2020-05-15 00:00:00', observer='geocenter')\n",
    "print(pos.to_string('hmsdms', precision=10))"
   ]
  },
  {
   "cell_type": "code",
   "execution_count": 17,
   "metadata": {},
   "outputs": [
    {
     "name": "stdout",
     "output_type": "stream",
     "text": [
      "18h22m00.2573170779s -22d28m10.7210581716s\n"
     ]
    }
   ],
   "source": [
    "from sora import Observer\n",
    "opd = Observer(name='Pico dos Dias Observatory', code='874')\n",
    "\n",
    "pos = star2.get_position(time='2020-05-15 00:00:00', observer=opd)\n",
    "print(pos.to_string('hmsdms', precision=10))"
   ]
  },
  {
   "cell_type": "markdown",
   "metadata": {},
   "source": [
    "**The position error projected at epoch can also be called out. This is done using the formalism proposed by Butkevich et al., 2014, using the parameters and covariance matrix from Gaia catalogue (EDR3 or DR2).**"
   ]
  },
  {
   "cell_type": "code",
   "execution_count": 18,
   "metadata": {},
   "outputs": [
    {
     "data": {
      "text/plain": [
       "(<Quantity 0.19729104 mas>, <Quantity 0.13509292 mas>)"
      ]
     },
     "execution_count": 18,
     "metadata": {},
     "output_type": "execute_result"
    }
   ],
   "source": [
    "star2.error_at(time='2020-05-15 00:00:00')"
   ]
  },
  {
   "cell_type": "markdown",
   "metadata": {},
   "source": [
    "<a id=\"section_4\"></a>\n",
    "\n",
    "## 4. Adding offsets\n",
    "\n",
    "The Gaia coordinate is expected to be the most precise coordinate published so far. However, if the user has the need to add an offset to the coordinate, it can be done with add_offset. The input values must be in $\\Delta\\alpha\\cos\\delta$ and $\\Delta\\delta$, in mas. The application of the offset is done only in the geocentric function."
   ]
  },
  {
   "cell_type": "code",
   "execution_count": 19,
   "metadata": {},
   "outputs": [
    {
     "data": {
      "text/plain": [
       "'18h22m00.2573s -22d28m10.7211s'"
      ]
     },
     "execution_count": 19,
     "metadata": {},
     "output_type": "execute_result"
    }
   ],
   "source": [
    "star2.get_position(time='2020-05-15 00:00:00', observer='geocenter').to_string('hmsdms')"
   ]
  },
  {
   "cell_type": "code",
   "execution_count": 20,
   "metadata": {},
   "outputs": [],
   "source": [
    "star2.add_offset(40,50)"
   ]
  },
  {
   "cell_type": "code",
   "execution_count": 21,
   "metadata": {},
   "outputs": [
    {
     "data": {
      "text/plain": [
       "'18h22m00.2602s -22d28m10.6711s'"
      ]
     },
     "execution_count": 21,
     "metadata": {},
     "output_type": "execute_result"
    }
   ],
   "source": [
    "star2.get_position(time='2020-05-15 00:00:00', observer='geocenter').to_string('hmsdms')"
   ]
  },
  {
   "cell_type": "markdown",
   "metadata": {},
   "source": [
    "<a id=\"section_5\"></a>\n",
    "\n",
    "## 5. The Apparent Diameter of the star\n",
    "\n",
    "SORA is able to calculate the apparent diameter of a star at a given distance using the star radius of the Gaia catalogue or the angular diameter calculated from the methods of Kervella (2004) or van Belle (1999). These functions can be used alone, or within the `Star` object."
   ]
  },
  {
   "cell_type": "code",
   "execution_count": 22,
   "metadata": {},
   "outputs": [],
   "source": [
    "from sora.star import kervella, van_belle"
   ]
  },
  {
   "cell_type": "markdown",
   "metadata": {},
   "source": [
    "**The functions will return the diameter calculated for B and V magnitudes, in mas**"
   ]
  },
  {
   "cell_type": "code",
   "execution_count": 23,
   "metadata": {},
   "outputs": [
    {
     "data": {
      "text/plain": [
       "{'V': <Quantity 0.03912911 mas>, 'B': <Quantity 0.03280198 mas>}"
      ]
     },
     "execution_count": 23,
     "metadata": {},
     "output_type": "execute_result"
    }
   ],
   "source": [
    "kervella(magB=10, magV=11, magK=10)"
   ]
  },
  {
   "cell_type": "markdown",
   "metadata": {},
   "source": [
    "**In the case of van_belle function, the result is given for Super Giant \"sg\", Main Sequence \"ms\" and Variable Star \"vs\"**"
   ]
  },
  {
   "cell_type": "code",
   "execution_count": 24,
   "metadata": {},
   "outputs": [
    {
     "data": {
      "text/plain": [
       "{'sg': {'B': <Quantity 0.04446313 mas>, 'V': <Quantity 0.04920395 mas>},\n",
       " 'ms': {'B': <Quantity 0.03162278 mas>, 'V': <Quantity 0.03664376 mas>},\n",
       " 'vs': {'B': <Quantity 0.0691831 mas>, 'V': <Quantity 0.06412096 mas>}}"
      ]
     },
     "execution_count": 24,
     "metadata": {},
     "output_type": "execute_result"
    }
   ],
   "source": [
    "van_belle(magB=10, magV=11, magK=10)"
   ]
  },
  {
   "cell_type": "markdown",
   "metadata": {},
   "source": [
    "**If a Star object is defined and the B, V and K magnitudes are defined, it can be directly called as:**"
   ]
  },
  {
   "cell_type": "code",
   "execution_count": 25,
   "metadata": {},
   "outputs": [
    {
     "data": {
      "text/plain": [
       "{'V': <Quantity 0.00653663 mas>, 'B': <Quantity 0.00766495 mas>}"
      ]
     },
     "execution_count": 25,
     "metadata": {},
     "output_type": "execute_result"
    }
   ],
   "source": [
    "star.kervella()"
   ]
  },
  {
   "cell_type": "code",
   "execution_count": 26,
   "metadata": {},
   "outputs": [
    {
     "data": {
      "text/plain": [
       "{'sg': {'B': <Quantity 0.00903109 mas>, 'V': <Quantity 0.00888405 mas>},\n",
       " 'ms': {'B': <Quantity 0.00860855 mas>, 'V': <Quantity 0.00622656 mas>},\n",
       " 'vs': {'B': <Quantity 0.01353278 mas>, 'V': <Quantity 0.01166342 mas>}}"
      ]
     },
     "execution_count": 26,
     "metadata": {},
     "output_type": "execute_result"
    }
   ],
   "source": [
    "star.van_belle()"
   ]
  },
  {
   "cell_type": "markdown",
   "metadata": {},
   "source": [
    "**For a** `Star` **object, to see the apparent diameter, in km, at a given distance, the apparent_diameter method can be used.**\n",
    "\n",
    "If no parameter is given, the source will be automatically chosen given the following sequence:\n",
    "\n",
    "    - A value given by the user\n",
    "    - The star radius obtained from Gaia.\n",
    "    - The apparent diameter calculated from Kervella at V band\n",
    "    - The apparent diameter calculated from van Belle at V band for a Super Giant star."
   ]
  },
  {
   "cell_type": "code",
   "execution_count": 27,
   "metadata": {},
   "outputs": [
    {
     "data": {
      "text/plain": [
       "\u001b[0;31mSignature:\u001b[0m\n",
       "\u001b[0mstar\u001b[0m\u001b[0;34m.\u001b[0m\u001b[0mapparent_diameter\u001b[0m\u001b[0;34m(\u001b[0m\u001b[0;34m\u001b[0m\n",
       "\u001b[0;34m\u001b[0m    \u001b[0mdistance\u001b[0m\u001b[0;34m,\u001b[0m\u001b[0;34m\u001b[0m\n",
       "\u001b[0;34m\u001b[0m    \u001b[0mmode\u001b[0m\u001b[0;34m=\u001b[0m\u001b[0;34m'auto'\u001b[0m\u001b[0;34m,\u001b[0m\u001b[0;34m\u001b[0m\n",
       "\u001b[0;34m\u001b[0m    \u001b[0mband\u001b[0m\u001b[0;34m=\u001b[0m\u001b[0;34m'V'\u001b[0m\u001b[0;34m,\u001b[0m\u001b[0;34m\u001b[0m\n",
       "\u001b[0;34m\u001b[0m    \u001b[0mstar_type\u001b[0m\u001b[0;34m=\u001b[0m\u001b[0;34m'sg'\u001b[0m\u001b[0;34m,\u001b[0m\u001b[0;34m\u001b[0m\n",
       "\u001b[0;34m\u001b[0m    \u001b[0mverbose\u001b[0m\u001b[0;34m=\u001b[0m\u001b[0;32mTrue\u001b[0m\u001b[0;34m,\u001b[0m\u001b[0;34m\u001b[0m\n",
       "\u001b[0;34m\u001b[0m\u001b[0;34m)\u001b[0m\u001b[0;34m\u001b[0m\u001b[0;34m\u001b[0m\u001b[0m\n",
       "\u001b[0;31mDocstring:\u001b[0m\n",
       "Calculates the apparent diameter of the star at a given distance.\n",
       "\n",
       "Parameters\n",
       "----------\n",
       "distance : `int`, `float`\n",
       "    Object geocentric distance, in AU.\n",
       "\n",
       "mode : `str`, default='auto'\n",
       "    The mode to calculate the apparent diameter.\n",
       "\n",
       "    - ``'user'``: calculates using user given diameter.\n",
       "\n",
       "    - ``'gaia'``: calculates using diameter obtained from Gaia.\n",
       "\n",
       "    - ``'kervella'``: calculates using Kervella equations.\n",
       "\n",
       "    - ``'van_belle'``: calculates using van Belle equations.\n",
       "\n",
       "    - ``'auto'``: tries all the above methods until it is able to calculate diameter.\n",
       "\n",
       "    The order of try is the same as shown above (user, Gaia, Kervella, Van Belle).\n",
       "\n",
       "band : `str`\n",
       "    The band filter to calculate the diameter. If mode is `kervella`\n",
       "    or `van_belle`, the filter must be given, ``'B'`` or ``'V'``.\n",
       "    If mode `auto`, ``'V'`` is selected.\n",
       "\n",
       "star_type :`str`\n",
       "    Type of star to calculate the diameter. If mode is `van_belle`,\n",
       "    the star type must be given. If mode is `auto`, ``star_type='sg'``.\n",
       "\n",
       "    Accepted types:\n",
       "\n",
       "    - ``'sg'`` for 'Super Giant'.\n",
       "\n",
       "    - ``'ms'`` for 'Main Sequence'.\n",
       "\n",
       "    - ``'vs'`` for 'Variable Star'.\n",
       "\n",
       "verbose : `bool`\n",
       "    If True, it prints the mode used by `auto`.\n",
       "\u001b[0;31mFile:\u001b[0m      ~/anaconda3/lib/python3.8/site-packages/sora/star/core.py\n",
       "\u001b[0;31mType:\u001b[0m      method\n"
      ]
     },
     "metadata": {},
     "output_type": "display_data"
    }
   ],
   "source": [
    "star.apparent_diameter?"
   ]
  },
  {
   "cell_type": "code",
   "execution_count": 28,
   "metadata": {},
   "outputs": [
    {
     "name": "stdout",
     "output_type": "stream",
     "text": [
      "Apparent diameter using Kervella et al. (2004)\n"
     ]
    },
    {
     "data": {
      "text/latex": [
       "$0.04266742 \\; \\mathrm{km}$"
      ],
      "text/plain": [
       "<Quantity 0.04266742 km>"
      ]
     },
     "execution_count": 28,
     "metadata": {},
     "output_type": "execute_result"
    }
   ],
   "source": [
    "star.apparent_diameter(distance=9) #Distance in AU"
   ]
  },
  {
   "cell_type": "markdown",
   "metadata": {},
   "source": [
    "**To set an user diameter, in mas**"
   ]
  },
  {
   "cell_type": "code",
   "execution_count": 29,
   "metadata": {},
   "outputs": [],
   "source": [
    "star.set_diameter(diameter=0.05)"
   ]
  },
  {
   "cell_type": "code",
   "execution_count": 30,
   "metadata": {},
   "outputs": [
    {
     "name": "stdout",
     "output_type": "stream",
     "text": [
      "Calculating apparent diameter from user defined diameter\n"
     ]
    },
    {
     "data": {
      "text/latex": [
       "$0.32637192 \\; \\mathrm{km}$"
      ],
      "text/plain": [
       "<Quantity 0.32637192 km>"
      ]
     },
     "execution_count": 30,
     "metadata": {},
     "output_type": "execute_result"
    }
   ],
   "source": [
    "star.apparent_diameter(distance=9)"
   ]
  },
  {
   "cell_type": "markdown",
   "metadata": {},
   "source": [
    "To choose the source of calculation, just select in the mode parameter. If `mode='kervella'`, the user must give 'band' as 'B or 'V'. If `mode='van_belle'`, the user must give the band and the type of star in star_type as 'sg', 'ms', or 'vs'. If not given, `band='V'` and `star_type='sg'`."
   ]
  },
  {
   "cell_type": "code",
   "execution_count": 31,
   "metadata": {},
   "outputs": [
    {
     "name": "stdout",
     "output_type": "stream",
     "text": [
      "Apparent diameter using Kervella et al. (2004)\n"
     ]
    },
    {
     "data": {
      "text/latex": [
       "$0.045037832 \\; \\mathrm{km}$"
      ],
      "text/plain": [
       "<Quantity 0.04503783 km>"
      ]
     },
     "execution_count": 31,
     "metadata": {},
     "output_type": "execute_result"
    }
   ],
   "source": [
    "star.apparent_diameter(distance=9.5, mode='kervella')"
   ]
  },
  {
   "cell_type": "code",
   "execution_count": 32,
   "metadata": {},
   "outputs": [
    {
     "name": "stdout",
     "output_type": "stream",
     "text": [
      "Apparent diameter using van Belle (1999)\n"
     ]
    },
    {
     "data": {
      "text/latex": [
       "$0.05931356 \\; \\mathrm{km}$"
      ],
      "text/plain": [
       "<Quantity 0.05931356 km>"
      ]
     },
     "execution_count": 32,
     "metadata": {},
     "output_type": "execute_result"
    }
   ],
   "source": [
    "star.apparent_diameter(distance=9.5, mode='van_belle', band='B', star_type='ms')"
   ]
  },
  {
   "cell_type": "markdown",
   "metadata": {},
   "source": [
    "**This Jupyter-Notebook was designed as a tutorial for how to work with the** `Star` **Class. More information about the other classes, please refer to their specif Jupyter-Notebook. Any further question, please contact the core team: Altair Ramos Gomes Júnior, Bruno Eduardo Morgado, Gustavo Benedetti Rossi, and Rodrigo Carlos Boufleur.**\n",
    "\n",
    "**The End**"
   ]
  }
 ],
 "metadata": {
  "kernelspec": {
   "display_name": "Python 3",
   "language": "python",
   "name": "python3"
  },
  "language_info": {
   "codemirror_mode": {
    "name": "ipython",
    "version": 3
   },
   "file_extension": ".py",
   "mimetype": "text/x-python",
   "name": "python",
   "nbconvert_exporter": "python",
   "pygments_lexer": "ipython3",
   "version": "3.8.5"
  }
 },
 "nbformat": 4,
 "nbformat_minor": 4
}
