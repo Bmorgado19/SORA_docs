{
 "cells": [
  {
   "cell_type": "markdown",
   "metadata": {},
   "source": [
    "# Body Class\n",
    "\n",
    "The `Body` Class within SORA was created to handle the information about the Solar System object. The online documentation <a href=https://sora.readthedocs.io/>here</a> contains the details about every step.  \n",
    "\n",
    "This Jupyter-Notebook was designed as a tutorial for how to work with the `Body` Class. Any further question, please contact the core team: Altair Ramos Gomes Júnior, Bruno Eduardo Morgado, Gustavo Benedetti Rossi, and Rodrigo Carlos Boufleur.\n",
    "\n",
    "**The `Body` Docstring was designed to help the users. Also, each function has its Docstring containing its main purpose and the needed parameters (physical description and formats). Please, do not hesitate to use it.**\n",
    "\n",
    "## 0. Index\n",
    "\n",
    "1. [Instantiating a Body object](#section_1)\n",
    "2. [Body Physical Attributes](#section_2)\n",
    "3. [Ephemeris](#section_3)\n",
    "4. [Pole Position Angle and Aperture Angle](#section_4)\n",
    "5. [Apparent Magnitude](#section_5)\n",
    "6. [The Ephemeris Classes](#section_6)"
   ]
  },
  {
   "cell_type": "code",
   "execution_count": 1,
   "metadata": {},
   "outputs": [
    {
     "name": "stdout",
     "output_type": "stream",
     "text": [
      "SORA version: 0.2\n"
     ]
    }
   ],
   "source": [
    "## import the Body Class\n",
    "from sora.body import Body\n",
    "\n",
    "## To facilitate, sora allows to import Body directly from the root\n",
    "from sora import Body"
   ]
  },
  {
   "cell_type": "markdown",
   "metadata": {},
   "source": [
    "<a id=\"section_1\"></a>\n",
    "\n",
    "## 1. Instantiating a Body object\n",
    "\n",
    "A Solar System Body have a lot of parameters that characterizes itself. The SORA `Body` Class is able to download these parameter from the JPL <a href=\"https://ssd.jpl.nasa.gov/sbdb.cgi\">Small Body DataBase</a>. For that, a name should be given to search the object."
   ]
  },
  {
   "cell_type": "code",
   "execution_count": 2,
   "metadata": {},
   "outputs": [
    {
     "data": {
      "text/plain": [
       "\u001b[0;31mInit signature:\u001b[0m \u001b[0mBody\u001b[0m\u001b[0;34m(\u001b[0m\u001b[0mname\u001b[0m\u001b[0;34m,\u001b[0m \u001b[0mdatabase\u001b[0m\u001b[0;34m=\u001b[0m\u001b[0;34m'auto'\u001b[0m\u001b[0;34m,\u001b[0m \u001b[0;34m**\u001b[0m\u001b[0mkwargs\u001b[0m\u001b[0;34m)\u001b[0m\u001b[0;34m\u001b[0m\u001b[0;34m\u001b[0m\u001b[0m\n",
       "\u001b[0;31mDocstring:\u001b[0m     \n",
       "Class that contains and manages the information of the body.\n",
       "\n",
       "Attributes\n",
       "----------\n",
       "name : `str`, required\n",
       "    The name of the object. It can be the used `spkid` or `designation\n",
       "    number` to query the SBDB (Small-Body DataBase). In this case, the name\n",
       "    is case insensitive.\n",
       "\n",
       "database : `str`, optional, default='auto'\n",
       "    The database to query the object. It can be ``satdb`` for our temporary\n",
       "    hardcoded satellite database, or ``'sbdb'`` to query on the SBDB. If\n",
       "    database is set as ``auto`` it will try first with ``satdb``,\n",
       "    then ``sbdb``. If the user wants to use their own information,\n",
       "    database must be given as ``None``. In this case, `spkid` parameter\n",
       "    must be given.\n",
       "\n",
       "ephem : `sora.EphemKernel`, `sora.EphemHorizons`, `sora.EphemJPL`, `sora.EphemPlanete`\n",
       "    An Ephem Class that contains information about the ephemeris. It can be\n",
       "    \"horizons\" to automatically defined an EphemHorizons object or a list of\n",
       "    kernels to automatically define an EphemKernel object.\n",
       "\n",
       "orbit_class : `str`\n",
       "    It defines the Orbital class of the body. It can be ``TNO``,\n",
       "    ``Satellite``, ``Centaur``, ``comet``, ``asteroid``, ``trojan``, ``neo``,\n",
       "    and ``planet``. It is important for a better characterization of the\n",
       "    object. If a different value is given, it will be defined as\n",
       "    ``unclassified``.\n",
       "\n",
       "spkid : `str`, `int`, `float`\n",
       "    If ``database=None``, the user must give a `spkid` or an `ephem`\n",
       "    which has the `spkid` parameter.\n",
       "\n",
       "albedo : `float`, `int`\n",
       "    The albedo of the object.\n",
       "\n",
       "H : `float`, `int`\n",
       "    The absolute magnitude.\n",
       "\n",
       "G : `float`, `int`\n",
       "    The phase slope.\n",
       "\n",
       "diameter : `float`, `int`, `astropy.quantity.Quantity`\n",
       "    The diameter of the object, in km.\n",
       "\n",
       "density : `float`, `int`, `astropy.quantity.Quantity`\n",
       "    The density of the object, in g/cm³.\n",
       "\n",
       "GM : `float`, `int`, `astropy.quantity.Quantity`\n",
       "    The Standard Gravitational Parameter, in km³/s².\n",
       "\n",
       "rotation : `float`, `int`, `astropy.quantity.Quantity`\n",
       "    The Rotation of the object, in hours.\n",
       "\n",
       "pole : `str`, `astropy.coordinates.SkyCoord`\n",
       "    The Pole coordinates of the object. It can be a `SkyCoord object` or a\n",
       "    string in the format ``'hh mm ss.ss +dd mm ss.ss'``.\n",
       "\n",
       "BV : `float`, `int`\n",
       "    The B-V color.\n",
       "\n",
       "UB : `float`, `int`\n",
       "    The U-B color.\n",
       "\n",
       "smass : `str`\n",
       "    The spectral type in SMASS classification.\n",
       "\n",
       "tholen : `str`\n",
       "    The spectral type in Tholen classification.\n",
       "\n",
       "Note\n",
       "----\n",
       "The following attributes are are returned from the Small-Body DataBase when\n",
       "``database='sbdb'`` or from our temporary hardcoded Satellite DataBase when\n",
       "``database='satdb'``:\n",
       "\n",
       "`orbit_class`, `spkid`, `albedo`, `H`, `G`, `diameter`, `density`, `GM`,\n",
       "`rotation`, `pole`, `BV`, `UB`, `smass`, and `tholen`.\n",
       "\n",
       "These are physical parameters the user can give to the object. If a query is\n",
       "made and user gives a parameter, the parameter given by the user is defined\n",
       "in the *Body* object.\n",
       "\u001b[0;31mFile:\u001b[0m           ~/anaconda3/lib/python3.8/site-packages/sora/body/core.py\n",
       "\u001b[0;31mType:\u001b[0m           type\n",
       "\u001b[0;31mSubclasses:\u001b[0m     \n"
      ]
     },
     "metadata": {},
     "output_type": "display_data"
    }
   ],
   "source": [
    "Body?"
   ]
  },
  {
   "cell_type": "code",
   "execution_count": 3,
   "metadata": {},
   "outputs": [
    {
     "name": "stdout",
     "output_type": "stream",
     "text": [
      "Obtaining data for Ceres from SBDB\n"
     ]
    }
   ],
   "source": [
    "ceres = Body(name='Ceres')"
   ]
  },
  {
   "cell_type": "code",
   "execution_count": 4,
   "metadata": {},
   "outputs": [
    {
     "name": "stdout",
     "output_type": "stream",
     "text": [
      "###############################################################################\n",
      "                               1 Ceres (A801 AA)                               \n",
      "###############################################################################\n",
      "Object Orbital Class: Main-belt Asteroid\n",
      "Spectral Type:\n",
      "    SMASS: C  [Reference: EAR-A-5-DDR-TAXONOMY-V4.0]\n",
      "    Tholen: G [Reference: EAR-A-5-DDR-TAXONOMY-V4.0]\n",
      "       Linear, generally featureless spectra. Differences in UV absorption features and presence/absence of narrow absorption feature near 0.7 μm.\n",
      "Discovered 1801-Jan-01 by Piazzi, G. at Palermo\n",
      "\n",
      "Physical parameters:\n",
      "Diameter:\n",
      "    939.4 +/- 0.2 km\n",
      "    Reference: Nature vol. 537, pp515-517 (22 September 2016), \n",
      "Mass:\n",
      "    9.3835e+20 +/- 1.3485e+16 kg\n",
      "    Reference: Nature vol. 537, pp515-517 (22 September 2016), \n",
      "Density:\n",
      "    2.162 +/- 0.008 g / cm3\n",
      "    Reference: Nature vol. 537, pp515-517 (22 September 2016), \n",
      "Rotation:\n",
      "    9.0742 +/- 1e-06 h\n",
      "    Reference: Nature vol. 537, pp515-517 (22 September 2016), derived from published value: 952.1532 +/- 0.0001 deg./day\n",
      "Pole\n",
      "    RA:291d25m15.6s +/- 0d00m25.2s\n",
      "    DEC:66d45m28.8s +/- 0d00m07.2s\n",
      "    Reference: Nature vol. 537, pp515-517 (22 September 2016), \n",
      "Absolute Magnitude:\n",
      "    3.53 +/- 0 mag\n",
      "    Reference: E2021B10, IRAS observations used: 15\n",
      "Phase Slope:\n",
      "    0.12 +/- 0 \n",
      "    Reference: PDS3 (MPC 17257), Fit\n",
      "Albedo:\n",
      "    0.09 +/- 0.003 \n",
      "    Reference: Li et al. (2006) Icarus v182:pp143-160, V-band geometric albedo\n",
      "B-V color:\n",
      "    0.713 +/- 0.014 \n",
      "    Reference: EAR-A-5-DDR-UBV-MEAN-VALUES-V1.2, #obs=52; phase (min.=1.47, mean=11.85, max.=22.59) deg.\n",
      "U-B color:\n",
      "    0.426 +/- 0.026 \n",
      "    Reference: EAR-A-5-DDR-UBV-MEAN-VALUES-V1.2, #obs=52; phase (min.=1.47, mean=12.16, max.=22.59) deg.\n",
      "\n"
     ]
    }
   ],
   "source": [
    "print(ceres)"
   ]
  },
  {
   "cell_type": "markdown",
   "metadata": {},
   "source": [
    "Other parameters that are interpreted by the `Body` Class are downloaded from the SBDB. They are accessed vi the attribute `Body.meta_sbdb`"
   ]
  },
  {
   "cell_type": "code",
   "execution_count": 5,
   "metadata": {},
   "outputs": [
    {
     "data": {
      "text/plain": [
       "OrderedDict([('phys_par',\n",
       "              OrderedDict([('H', '3.53'),\n",
       "                           ('H_sig', None),\n",
       "                           ('H_ref', 'E2021B10'),\n",
       "                           ('H_note', 'IRAS observations used: 15'),\n",
       "                           ('G', '0.12'),\n",
       "                           ('G_sig', None),\n",
       "                           ('G_ref', 'PDS3 (MPC 17257)'),\n",
       "                           ('G_note', 'Fit'),\n",
       "                           ('diameter', Unit(\"939.4 km\")),\n",
       "                           ('diameter_sig', Unit(\"0.2 km\")),\n",
       "                           ('diameter_ref',\n",
       "                            'Nature vol. 537, pp515-517 (22 September 2016)'),\n",
       "                           ('diameter_note', None),\n",
       "                           ('extent', '964.4 x 964.2 x 891.8'),\n",
       "                           ('extent_sig', '0.2 x 0.2 x 0.2'),\n",
       "                           ('extent_ref',\n",
       "                            'Nature vol. 537, pp515-517 (22 September 2016)'),\n",
       "                           ('extent_note',\n",
       "                            'fit w.r.t. center of mass and in body-fixed frame'),\n",
       "                           ('GM', Unit(\"62.6284 km3 / s2\")),\n",
       "                           ('GM_sig', Unit(\"0.0009 km3 / s2\")),\n",
       "                           ('GM_ref',\n",
       "                            'Nature vol. 537, pp515-517 (22 September 2016)'),\n",
       "                           ('GM_note', None),\n",
       "                           ('density', Unit(\"2.162 g / cm3\")),\n",
       "                           ('density_sig', Unit(\"0.008 g / cm3\")),\n",
       "                           ('density_ref',\n",
       "                            'Nature vol. 537, pp515-517 (22 September 2016)'),\n",
       "                           ('density_note', None),\n",
       "                           ('rot_per', Unit(\"9.07417 h\")),\n",
       "                           ('rot_per_sig', Unit(\"1e-06 h\")),\n",
       "                           ('rot_per_ref',\n",
       "                            'Nature vol. 537, pp515-517 (22 September 2016)'),\n",
       "                           ('rot_per_note',\n",
       "                            'derived from published value: 952.1532 +/- 0.0001 deg./day'),\n",
       "                           ('pole', '291.421/66.758'),\n",
       "                           ('pole_sig', '0.007/0.002'),\n",
       "                           ('pole_ref',\n",
       "                            'Nature vol. 537, pp515-517 (22 September 2016)'),\n",
       "                           ('pole_note', None),\n",
       "                           ('albedo', '0.090'),\n",
       "                           ('albedo_sig', '0.003'),\n",
       "                           ('albedo_ref',\n",
       "                            'Li et al. (2006) Icarus v182:pp143-160'),\n",
       "                           ('albedo_note', 'V-band geometric albedo'),\n",
       "                           ('BV', '0.713'),\n",
       "                           ('BV_sig', '0.014'),\n",
       "                           ('BV_ref', 'EAR-A-5-DDR-UBV-MEAN-VALUES-V1.2'),\n",
       "                           ('BV_note',\n",
       "                            '#obs=52; phase (min.=1.47, mean=11.85, max.=22.59) deg.'),\n",
       "                           ('UB', '0.426'),\n",
       "                           ('UB_sig', '0.026'),\n",
       "                           ('UB_ref', 'EAR-A-5-DDR-UBV-MEAN-VALUES-V1.2'),\n",
       "                           ('UB_note',\n",
       "                            '#obs=52; phase (min.=1.47, mean=12.16, max.=22.59) deg.'),\n",
       "                           ('spec_T', 'G'),\n",
       "                           ('spec_T_sig', None),\n",
       "                           ('spec_T_ref', 'EAR-A-5-DDR-TAXONOMY-V4.0'),\n",
       "                           ('spec_T_note',\n",
       "                            'used 7 color indices; used ground-based radiometric albedo'),\n",
       "                           ('spec_B', 'C'),\n",
       "                           ('spec_B_sig', None),\n",
       "                           ('spec_B_ref', 'EAR-A-5-DDR-TAXONOMY-V4.0'),\n",
       "                           ('spec_B_note',\n",
       "                            'based on a high-resolution spectrum by Xu et al. (1995) or Bus and Binzel (2002)')])),\n",
       "             ('object',\n",
       "              OrderedDict([('shortname', '1 Ceres'),\n",
       "                           ('neo', False),\n",
       "                           ('orbit_class',\n",
       "                            OrderedDict([('name', 'Main-belt Asteroid'),\n",
       "                                         ('code', 'MBA')])),\n",
       "                           ('pha', False),\n",
       "                           ('spkid', '2000001'),\n",
       "                           ('kind', 'an'),\n",
       "                           ('orbit_id', '48'),\n",
       "                           ('fullname', '1 Ceres (A801 AA)'),\n",
       "                           ('des', '1'),\n",
       "                           ('prefix', None)])),\n",
       "             ('signature',\n",
       "              OrderedDict([('source',\n",
       "                            'NASA/JPL Small-Body Database (SBDB) API'),\n",
       "                           ('version', '1.2')])),\n",
       "             ('orbit',\n",
       "              OrderedDict([('source', 'JPL'),\n",
       "                           ('cov_epoch', Unit(\"2.45885e+06 d\")),\n",
       "                           ('moid_jup', Unit(\"2.09403 AU\")),\n",
       "                           ('t_jup', '3.310'),\n",
       "                           ('condition_code', '0'),\n",
       "                           ('not_valid_before', None),\n",
       "                           ('rms', '.43153'),\n",
       "                           ('model_pars', []),\n",
       "                           ('orbit_id', '48'),\n",
       "                           ('producer', 'Davide Farnocchia'),\n",
       "                           ('first_obs', '1995-01-05'),\n",
       "                           ('soln_date', '2021-04-13 11:04:44'),\n",
       "                           ('two_body', None),\n",
       "                           ('epoch', Unit(\"2.45885e+06 d\")),\n",
       "                           ('elements',\n",
       "                            OrderedDict([('e', '.07687465013145245'),\n",
       "                                         ('e_sig', 4.82457301562052e-12),\n",
       "                                         ('q', Unit(\"2.5564 AU\")),\n",
       "                                         ('q_sig',\n",
       "                                          <Quantity 1.96580406e-11 AU>),\n",
       "                                         ('tp', Unit(\"2.45824e+06 d\")),\n",
       "                                         ('tp_sig',\n",
       "                                          <Quantity 3.72607486e-08 d>),\n",
       "                                         ('om', Unit(\"80.3012 deg\")),\n",
       "                                         ('om_sig',\n",
       "                                          <Quantity 6.17186303e-08 deg>),\n",
       "                                         ('w', Unit(\"73.809 deg\")),\n",
       "                                         ('w_sig',\n",
       "                                          <Quantity 6.61818138e-08 deg>),\n",
       "                                         ('i', Unit(\"10.5913 deg\")),\n",
       "                                         ('i_sig',\n",
       "                                          <Quantity 4.61328999e-09 deg>)])),\n",
       "                           ('equinox', 'J2000'),\n",
       "                           ('data_arc', '9520'),\n",
       "                           ('not_valid_after', None),\n",
       "                           ('n_del_obs_used', '60'),\n",
       "                           ('sb_used', 'SB441-N373'),\n",
       "                           ('n_obs_used', '1075'),\n",
       "                           ('comment', None),\n",
       "                           ('pe_used', 'DE441'),\n",
       "                           ('last_obs', '2021-01-28'),\n",
       "                           ('moid', Unit(\"1.59232 AU\")),\n",
       "                           ('n_dop_obs_used', '0')])),\n",
       "             ('discovery',\n",
       "              OrderedDict([('who', 'Piazzi, G.'),\n",
       "                           ('site', None),\n",
       "                           ('location', 'Palermo'),\n",
       "                           ('ref', 'DISCOVERY.DB'),\n",
       "                           ('date', '1801-Jan-01')]))])"
      ]
     },
     "execution_count": 5,
     "metadata": {},
     "output_type": "execute_result"
    }
   ],
   "source": [
    "ceres.meta_sbdb"
   ]
  },
  {
   "cell_type": "markdown",
   "metadata": {},
   "source": [
    "The SORA team also created a hardcoded database with planetary satellites to overcome the missing of these data on the SBDB. It is an interim solution and will be removed when a more reliable database is implemented."
   ]
  },
  {
   "cell_type": "code",
   "execution_count": 6,
   "metadata": {},
   "outputs": [
    {
     "name": "stdout",
     "output_type": "stream",
     "text": [
      "###############################################################################\n",
      "                                    Himalia                                    \n",
      "###############################################################################\n",
      "Object Orbital Class: Natural Satellite\n",
      "\n",
      "\n",
      "Physical parameters:\n",
      "Diameter:\n",
      "    139.6 +/- 1.7 km\n",
      "    Reference: Grav et al. (2015). AJ 809(1):3, \n",
      "Mass:\n",
      "    4.1952e+18 +/- 5.9931e+17 kg\n",
      "    Reference: Emelyanov (2005). A&A 438(3):L33-L36, \n",
      "Rotation:\n",
      "    7.7819 +/- 0.0005 h\n",
      "    Reference: Pilcher et al. (2012). Icarus 219(2):741-742, \n",
      "Absolute Magnitude:\n",
      "    8 +/- 0.01 mag\n",
      "    Reference: Rettig et al. (2001). Icarus 154(2):313-320, \n",
      "Phase Slope:\n",
      "    0.1 +/- 0.15 \n",
      "    Reference: , \n",
      "Albedo:\n",
      "    5.7 +/- 0.1 \n",
      "    Reference: Grav et al. (2015). AJ 809(1):3, \n",
      "\n"
     ]
    }
   ],
   "source": [
    "himalia = Body(name='Himalia', database='satdb')\n",
    "print(himalia)"
   ]
  },
  {
   "cell_type": "markdown",
   "metadata": {},
   "source": [
    "Finally, the user can also define a `Body` object without any database. In this case, it is required to define the parameters: `[name, spkid, database=None, orbit_class]`"
   ]
  },
  {
   "cell_type": "code",
   "execution_count": 7,
   "metadata": {},
   "outputs": [
    {
     "name": "stdout",
     "output_type": "stream",
     "text": [
      "###############################################################################\n",
      "                                     Elara                                     \n",
      "###############################################################################\n",
      "Object Orbital Class: Natural Satellite\n",
      "\n",
      "\n",
      "Physical parameters:\n",
      "\n"
     ]
    }
   ],
   "source": [
    "elara = Body(name='Elara', database=None, spkid=507, orbit_class='satellite')\n",
    "print(elara)"
   ]
  },
  {
   "cell_type": "markdown",
   "metadata": {},
   "source": [
    "<a id=\"section_2\"></a>\n",
    "\n",
    "## 2. Body Physical Attributes\n",
    "\n",
    "The parameters shown in the print can be accessed by its attribute name.\n",
    "\n",
    "These paremeter also have uncertainty and reference, which may be edited"
   ]
  },
  {
   "cell_type": "code",
   "execution_count": 8,
   "metadata": {},
   "outputs": [
    {
     "data": {
      "text/latex": [
       "$939.4 \\; \\mathrm{km}$"
      ],
      "text/plain": [
       "<PhysicalData 939.4 km>"
      ]
     },
     "execution_count": 8,
     "metadata": {},
     "output_type": "execute_result"
    }
   ],
   "source": [
    "ceres.diameter"
   ]
  },
  {
   "cell_type": "code",
   "execution_count": 9,
   "metadata": {},
   "outputs": [
    {
     "data": {
      "text/latex": [
       "$0.2 \\; \\mathrm{km}$"
      ],
      "text/plain": [
       "<Quantity 0.2 km>"
      ]
     },
     "execution_count": 9,
     "metadata": {},
     "output_type": "execute_result"
    }
   ],
   "source": [
    "ceres.diameter.uncertainty"
   ]
  },
  {
   "cell_type": "code",
   "execution_count": 10,
   "metadata": {},
   "outputs": [
    {
     "data": {
      "text/plain": [
       "'Nature vol. 537, pp515-517 (22 September 2016)'"
      ]
     },
     "execution_count": 10,
     "metadata": {},
     "output_type": "execute_result"
    }
   ],
   "source": [
    "ceres.diameter.reference"
   ]
  },
  {
   "cell_type": "code",
   "execution_count": 11,
   "metadata": {},
   "outputs": [
    {
     "name": "stdout",
     "output_type": "stream",
     "text": [
      "Diameter:\n",
      "    939.4 +/- 0.2 km\n",
      "    Reference: Nature vol. 537, pp515-517 (22 September 2016), \n",
      "\n"
     ]
    }
   ],
   "source": [
    "print(ceres.diameter)"
   ]
  },
  {
   "cell_type": "markdown",
   "metadata": {},
   "source": [
    "### 2.1. Editing Body Attributes\n",
    "\n",
    "To edit a parameter, simply redefine the attribute. If the core value is edited, the uncertainty is redefined to \"0\", and the reference to \"user\""
   ]
  },
  {
   "cell_type": "code",
   "execution_count": 12,
   "metadata": {},
   "outputs": [],
   "source": [
    "ceres.diameter = 972"
   ]
  },
  {
   "cell_type": "code",
   "execution_count": 13,
   "metadata": {},
   "outputs": [
    {
     "name": "stdout",
     "output_type": "stream",
     "text": [
      "Diameter:\n",
      "    972 +/- 0 km\n",
      "    Reference: User, \n",
      "\n"
     ]
    }
   ],
   "source": [
    "print(ceres.diameter)"
   ]
  },
  {
   "cell_type": "markdown",
   "metadata": {},
   "source": [
    "To correct the uncertainty and reference, just redefine them"
   ]
  },
  {
   "cell_type": "code",
   "execution_count": 14,
   "metadata": {},
   "outputs": [],
   "source": [
    "ceres.diameter.uncertainty = 6\n",
    "ceres.diameter.reference = \"Gomes-Júnior et al. (2015), MNRAS 451(3), 2295-2302\"\n",
    "ceres.diameter.notes = \"Equatorial Diameter\""
   ]
  },
  {
   "cell_type": "code",
   "execution_count": 15,
   "metadata": {},
   "outputs": [
    {
     "name": "stdout",
     "output_type": "stream",
     "text": [
      "Diameter:\n",
      "    972 +/- 6 km\n",
      "    Reference: Gomes-Júnior et al. (2015), MNRAS 451(3), 2295-2302, Equatorial Diameter\n",
      "\n"
     ]
    }
   ],
   "source": [
    "print(ceres.diameter)"
   ]
  },
  {
   "cell_type": "markdown",
   "metadata": {},
   "source": [
    "Finally, if you want to edit all the values of a single parameter directly, you must use the `PhysicalData` Class located in sora.body"
   ]
  },
  {
   "cell_type": "code",
   "execution_count": 16,
   "metadata": {},
   "outputs": [
    {
     "data": {
      "text/plain": [
       "\u001b[0;31mInit signature:\u001b[0m\n",
       "\u001b[0mPhysicalData\u001b[0m\u001b[0;34m(\u001b[0m\u001b[0;34m\u001b[0m\n",
       "\u001b[0;34m\u001b[0m    \u001b[0mname\u001b[0m\u001b[0;34m,\u001b[0m\u001b[0;34m\u001b[0m\n",
       "\u001b[0;34m\u001b[0m    \u001b[0mvalue\u001b[0m\u001b[0;34m,\u001b[0m\u001b[0;34m\u001b[0m\n",
       "\u001b[0;34m\u001b[0m    \u001b[0muncertainty\u001b[0m\u001b[0;34m=\u001b[0m\u001b[0;36m0.0\u001b[0m\u001b[0;34m,\u001b[0m\u001b[0;34m\u001b[0m\n",
       "\u001b[0;34m\u001b[0m    \u001b[0mreference\u001b[0m\u001b[0;34m=\u001b[0m\u001b[0;34m'User'\u001b[0m\u001b[0;34m,\u001b[0m\u001b[0;34m\u001b[0m\n",
       "\u001b[0;34m\u001b[0m    \u001b[0mnotes\u001b[0m\u001b[0;34m=\u001b[0m\u001b[0;34m''\u001b[0m\u001b[0;34m,\u001b[0m\u001b[0;34m\u001b[0m\n",
       "\u001b[0;34m\u001b[0m    \u001b[0munit\u001b[0m\u001b[0;34m=\u001b[0m\u001b[0mUnit\u001b[0m\u001b[0;34m(\u001b[0m\u001b[0mdimensionless\u001b[0m\u001b[0;34m)\u001b[0m\u001b[0;34m,\u001b[0m\u001b[0;34m\u001b[0m\n",
       "\u001b[0;34m\u001b[0m    \u001b[0mraise_error\u001b[0m\u001b[0;34m=\u001b[0m\u001b[0;32mFalse\u001b[0m\u001b[0;34m,\u001b[0m\u001b[0;34m\u001b[0m\n",
       "\u001b[0;34m\u001b[0m\u001b[0;34m)\u001b[0m\u001b[0;34m\u001b[0m\u001b[0;34m\u001b[0m\u001b[0m\n",
       "\u001b[0;31mDocstring:\u001b[0m     \n",
       "Defines PhysicalData with uncertainty, reference and notes.\n",
       "\n",
       "Note\n",
       "----\n",
       "It inherits from astropy.units.quantity.Quantity().\n",
       "\n",
       "Parameters\n",
       "----------\n",
       "name :`str`\n",
       "    The name representing the corresponding physical parameter.\n",
       "\n",
       "value : `int`, `float`, `str`, `~numpy.ndarray`, `astropy.quantity.Quantity`\n",
       "    The numerical value of this quantity in the units given by unit.  If\n",
       "    a `Quantity`  (or any other valid object with a ``unit`` attribute),\n",
       "    creates a new `Quantity` object, converting to `unit` units as needed.\n",
       "    If a string, it is converted to a number or `Quantity`, depending on\n",
       "    whether a unit is present.\n",
       "\n",
       "uncertainty : `int`, `float`, `str`, `~numpy.ndarray`, `astropy.quantity.Quantity`, default=0\n",
       "    The numerical value of this quantity in the units given by unit.  If\n",
       "    a `Quantity` (or any other valid object with a ``unit`` attribute),\n",
       "    creates a new `Quantity` object, converting to `unit` units as needed.\n",
       "    If a string, it is converted to a number or `Quantity`, depending on\n",
       "    whether a unit is present.\n",
       "\n",
       "reference : `str`, default='User'\n",
       "    A string stating the reference for the parameter value.\n",
       "\n",
       "notes : `str`, default=''\n",
       "    Any other important information about the physical parameter.\n",
       "\n",
       "unit : `str`, `~astropy.units.UnitBase` instance, default='dimensionless'\n",
       "    An object that represents the unit associated with the input value. Must\n",
       "    be an `~astropy.units.UnitBase` object or a string parsable by the\n",
       "    :mod:`~astropy.units` package.\n",
       "\n",
       "raise_error : `bool`, default=False\n",
       "    If ``value=None`` or ``raise_error=True`` the function raises an error,\n",
       "    else `value` is redefined to ``NaN``.\n",
       "\u001b[0;31mFile:\u001b[0m           ~/anaconda3/lib/python3.8/site-packages/sora/body/meta.py\n",
       "\u001b[0;31mType:\u001b[0m           type\n",
       "\u001b[0;31mSubclasses:\u001b[0m     \n"
      ]
     },
     "metadata": {},
     "output_type": "display_data"
    }
   ],
   "source": [
    "from sora.body import PhysicalData\n",
    "import astropy.units as u\n",
    "PhysicalData?"
   ]
  },
  {
   "cell_type": "code",
   "execution_count": 17,
   "metadata": {},
   "outputs": [
    {
     "name": "stdout",
     "output_type": "stream",
     "text": [
      "Diameter:\n",
      "    972 +/- 6 km\n",
      "    Reference: Gomes-Júnior et al. (2015), MNRAS 451(3), 2295-2302, Equatorial Radius\n",
      "\n"
     ]
    }
   ],
   "source": [
    "ceres.diameter = PhysicalData(name='Diameter', value=972, uncertainty=6, reference=\"Gomes-Júnior et al. (2015), MNRAS 451(3), 2295-2302\",\n",
    "                              notes=\"Equatorial Radius\", unit=u.km)\n",
    "print(ceres.diameter)"
   ]
  },
  {
   "cell_type": "markdown",
   "metadata": {},
   "source": [
    "Some parameters have direct relations when modified, for instance: diameter and radius; and GM and mass."
   ]
  },
  {
   "cell_type": "code",
   "execution_count": 18,
   "metadata": {},
   "outputs": [
    {
     "name": "stdout",
     "output_type": "stream",
     "text": [
      "Standard Gravitational Parameter:\n",
      "    62.628 +/- 0.0009 km3 / s2\n",
      "    Reference: Nature vol. 537, pp515-517 (22 September 2016), \n",
      "\n",
      "Mass:\n",
      "    9.3835e+20 +/- 1.3485e+16 kg\n",
      "    Reference: Nature vol. 537, pp515-517 (22 September 2016), \n",
      "\n"
     ]
    }
   ],
   "source": [
    "print(ceres.GM)\n",
    "print(ceres.mass)"
   ]
  },
  {
   "cell_type": "code",
   "execution_count": 19,
   "metadata": {},
   "outputs": [],
   "source": [
    "ceres.GM = 63000\n",
    "ceres.GM.uncertainty = 0.0010"
   ]
  },
  {
   "cell_type": "code",
   "execution_count": 20,
   "metadata": {},
   "outputs": [
    {
     "name": "stdout",
     "output_type": "stream",
     "text": [
      "Standard Gravitational Parameter:\n",
      "    63000 +/- 0.001 km3 / s2\n",
      "    Reference: User, \n",
      "\n",
      "Mass:\n",
      "    9.4392e+23 +/- 1.4983e+16 kg\n",
      "    Reference: User, \n",
      "\n"
     ]
    }
   ],
   "source": [
    "print(ceres.GM)\n",
    "print(ceres.mass)"
   ]
  },
  {
   "cell_type": "markdown",
   "metadata": {},
   "source": [
    "<a id=\"section_3\"></a>\n",
    "\n",
    "## 3. Ephemeris\n",
    "\n",
    "An important feature of the body is its ephemeris. It is the ephemeris that will tell us te position of the object for a given time. It is necessary the `Body` object to have an Ephemeris when reducing an Occultation. The full description of the Ephemeris options are given at [Section 6](#section_6).\n",
    "\n",
    "To add a ephemeris to a `Body` object, just given them as input or edit the ephem attribute:"
   ]
  },
  {
   "cell_type": "code",
   "execution_count": 21,
   "metadata": {},
   "outputs": [
    {
     "name": "stdout",
     "output_type": "stream",
     "text": [
      "Obtaining data for Chariklo from SBDB\n"
     ]
    }
   ],
   "source": [
    "# Giving the kernels directly using an EphemKernel object\n",
    "chariklo = Body(name='Chariklo', ephem=['input/bsp/Chariklo.bsp', 'input/bsp/de438_small.bsp'])"
   ]
  },
  {
   "cell_type": "code",
   "execution_count": 22,
   "metadata": {},
   "outputs": [
    {
     "name": "stdout",
     "output_type": "stream",
     "text": [
      "Obtaining data for Chariklo from SBDB\n"
     ]
    }
   ],
   "source": [
    "chariklo = Body(name='Chariklo')\n",
    "chariklo.ephem = ['input/bsp/Chariklo.bsp', 'input/bsp/de438_small.bsp']"
   ]
  },
  {
   "cell_type": "code",
   "execution_count": 23,
   "metadata": {},
   "outputs": [
    {
     "name": "stdout",
     "output_type": "stream",
     "text": [
      "###############################################################################\n",
      "                          10199 Chariklo (1997 CU26)                           \n",
      "###############################################################################\n",
      "Object Orbital Class: Centaur\n",
      "Spectral Type:\n",
      "    SMASS: D  [Reference: EAR-A-5-DDR-TAXONOMY-V4.0]\n",
      "       Relatively featureless spectrum with very steep red slope.\n",
      "Discovered 1997-Feb-15 by Spacewatch at Kitt Peak\n",
      "\n",
      "Physical parameters:\n",
      "Diameter:\n",
      "    302 +/- 30 km\n",
      "    Reference: Earth, Moon, and Planets, v. 89, Issue 1, p. 117-134 (2002), \n",
      "Rotation:\n",
      "    7.004 +/- 0 h\n",
      "    Reference: LCDB (Rev. 2020-October); Warner et al., 2009, [Result based on less than full coverage, so that the period may be wrong by 30 percent or so.]  REFERENCE LIST:[Fornasier, S.; Lazzaro, D.; Alvarez-Candal, A.; Snodgrass, C.; et   al. (2014) Astron. Astrophys. 568, L11.], [Leiva, R.; Sicardy, B.; Camargo, J.I.B.; Desmars, J.; et al. (2017)   Astron. J. 154, A159.]\n",
      "Absolute Magnitude:\n",
      "    6.7 +/- 0 mag\n",
      "    Reference: MPO452314, \n",
      "Albedo:\n",
      "    0.045 +/- 0.01 \n",
      "    Reference: Earth, Moon, and Planets, v. 89, Issue 1, p. 117-134 (2002), \n",
      "\n",
      "----------- Ephemeris -----------\n",
      "\n",
      "EphemKernel: CHARIKLO/DE438_SMALL (SPKID=2010199)\n",
      "Ephem Error: RA*cosDEC: 0.000 arcsec; DEC: 0.000 arcsec\n",
      "Offset applied: RA*cosDEC: 0.0000 arcsec; DEC: 0.0000 arcsec\n",
      "\n",
      "\n"
     ]
    }
   ],
   "source": [
    "print(chariklo)"
   ]
  },
  {
   "cell_type": "code",
   "execution_count": 24,
   "metadata": {},
   "outputs": [
    {
     "name": "stdout",
     "output_type": "stream",
     "text": [
      "Obtaining data for Ceres from SBDB\n"
     ]
    }
   ],
   "source": [
    "# Using the ephemeris from Horizons with a EphemHorizons object\n",
    "ceres = Body(name='Ceres', ephem='horizons')"
   ]
  },
  {
   "cell_type": "markdown",
   "metadata": {},
   "source": [
    "The ephemeris parameters can also be an `EphemKernel`, `EphemHorizons` or `EphemPlanete` objects given directly. Only `EphemPlanete` requires the ephemeris object being defined before associated to a `Body` object."
   ]
  },
  {
   "cell_type": "code",
   "execution_count": 25,
   "metadata": {},
   "outputs": [],
   "source": [
    "from sora import EphemKernel\n",
    "ephem = EphemKernel(kernels=['input/bsp/Chariklo.bsp', 'input/bsp/de438_small.bsp'], spkid='2010199')\n",
    "chariklo.ephem = ephem"
   ]
  },
  {
   "cell_type": "markdown",
   "metadata": {},
   "source": [
    "For a full description of the Ephemeris objects, see [Section 6](#section_6)"
   ]
  },
  {
   "cell_type": "markdown",
   "metadata": {},
   "source": [
    "<a id=\"section_4\"></a>\n",
    "\n",
    "## 4. Pole Position Angle and Aperture Angle\n",
    "\n",
    "For a given time, and given pole coordinate, we are able to calculate the Pole Position Angle relative to the North pole in the ICRS and the Aperture Angle of the object pole coordinate. For this, it is necessary for the `Body` object to have pole coordinates and ephemeris."
   ]
  },
  {
   "cell_type": "code",
   "execution_count": 26,
   "metadata": {},
   "outputs": [
    {
     "data": {
      "text/plain": [
       "\u001b[0;31mSignature:\u001b[0m \u001b[0mceres\u001b[0m\u001b[0;34m.\u001b[0m\u001b[0mget_pole_position_angle\u001b[0m\u001b[0;34m(\u001b[0m\u001b[0mtime\u001b[0m\u001b[0;34m,\u001b[0m \u001b[0mobserver\u001b[0m\u001b[0;34m=\u001b[0m\u001b[0;34m'geocenter'\u001b[0m\u001b[0;34m)\u001b[0m\u001b[0;34m\u001b[0m\u001b[0;34m\u001b[0m\u001b[0m\n",
       "\u001b[0;31mDocstring:\u001b[0m\n",
       "Returns the pole position angle and the aperture angle relative to\n",
       "the geocenter.\n",
       "\n",
       "Parameters\n",
       "----------\n",
       "time : `str`, `astropy.time.Time`\n",
       "    Time from which to calculate the position.\n",
       "    It can be a string in the ISO format (yyyy-mm-dd hh:mm:ss.s) or an astropy Time object.\n",
       "\n",
       "observer : `str`, `sora.Observer`, `sora.Spacecraft`\n",
       "    IAU code of the observer (must be present in given list of kernels),\n",
       "    a SORA observer object or a string: ['geocenter', 'barycenter']\n",
       "\n",
       "Returns\n",
       "-------\n",
       "position_angle, aperture_angle : `float` array\n",
       "    Position angle and aperture angle of the object's pole, in degrees.\n",
       "\u001b[0;31mFile:\u001b[0m      ~/anaconda3/lib/python3.8/site-packages/sora/body/core.py\n",
       "\u001b[0;31mType:\u001b[0m      method\n"
      ]
     },
     "metadata": {},
     "output_type": "display_data"
    }
   ],
   "source": [
    "ceres.get_pole_position_angle?"
   ]
  },
  {
   "cell_type": "code",
   "execution_count": 27,
   "metadata": {},
   "outputs": [
    {
     "data": {
      "text/plain": [
       "'19h25m41.04s +66d45m28.8s'"
      ]
     },
     "execution_count": 27,
     "metadata": {},
     "output_type": "execute_result"
    }
   ],
   "source": [
    "ceres.pole.to_string('hmsdms')"
   ]
  },
  {
   "cell_type": "code",
   "execution_count": 28,
   "metadata": {},
   "outputs": [
    {
     "name": "stdout",
     "output_type": "stream",
     "text": [
      "348.5668772704144 deg\n",
      "-2.5588174548444744 deg\n"
     ]
    }
   ],
   "source": [
    "pos_ang, ap_ang = ceres.get_pole_position_angle(time='2017-06-22 00:00:00')\n",
    "print(pos_ang)\n",
    "print(ap_ang)"
   ]
  },
  {
   "cell_type": "markdown",
   "metadata": {},
   "source": [
    "<a id=\"section_5\"></a>\n",
    "\n",
    "## 5. Apparent Magnitude\n",
    "\n",
    "The Body objectcs calculates the Apparent Magnitude of an object using the H and G given by the user. The equation is:\n",
    "\n",
    "$\\phi_0 = \\exp(-3.33(\\tan(0.5 phase)^{0.63}))$\n",
    "\n",
    "$\\phi_1 = \\exp(-1.87(\\tan(0.5 phase)^{1.22}))$\n",
    "\n",
    "$apmag = H - 2.5\\log10((1-G)\\phi_0 + G\\phi_1) + 5\\log10(sundist*dist)$\n",
    "\n",
    "It is Body object has the Absolute Magnitude (H), Phase Slope (G) and an ephemeris, the apparent magnitude will be calculated. Else, a query to the JPL Horizons web service will be made"
   ]
  },
  {
   "cell_type": "code",
   "execution_count": 29,
   "metadata": {},
   "outputs": [
    {
     "name": "stdout",
     "output_type": "stream",
     "text": [
      "Absolute Magnitude:\n",
      "    3.53 +/- 0 mag\n",
      "    Reference: E2021B10, IRAS observations used: 15\n",
      " Phase Slope:\n",
      "    0.12 +/- 0 \n",
      "    Reference: PDS3 (MPC 17257), Fit\n",
      "\n"
     ]
    }
   ],
   "source": [
    "print(ceres.H, ceres.G)"
   ]
  },
  {
   "cell_type": "code",
   "execution_count": 30,
   "metadata": {},
   "outputs": [
    {
     "data": {
      "text/plain": [
       "9.211349951689835"
      ]
     },
     "execution_count": 30,
     "metadata": {},
     "output_type": "execute_result"
    }
   ],
   "source": [
    "ceres.apparent_magnitude(time='2017-06-22 00:00:00')"
   ]
  },
  {
   "cell_type": "code",
   "execution_count": 31,
   "metadata": {},
   "outputs": [
    {
     "name": "stdout",
     "output_type": "stream",
     "text": [
      "Absolute Magnitude:\n",
      "    6.7 +/- 0 mag\n",
      "    Reference: MPO452314, \n",
      " \n"
     ]
    }
   ],
   "source": [
    "print(chariklo.H, chariklo.G)"
   ]
  },
  {
   "cell_type": "code",
   "execution_count": 32,
   "metadata": {},
   "outputs": [
    {
     "name": "stderr",
     "output_type": "stream",
     "text": [
      "/home/morgado/anaconda3/lib/python3.8/site-packages/sora/body/core.py:292: UserWarning: H and/or G is not defined for 10199 Chariklo. Searching into JPL Horizons service\n",
      "  warnings.warn('H and/or G is not defined for {}. Searching into JPL Horizons service'.format(self.shortname))\n"
     ]
    },
    {
     "data": {
      "text/plain": [
       "18.489"
      ]
     },
     "execution_count": 32,
     "metadata": {},
     "output_type": "execute_result"
    }
   ],
   "source": [
    "chariklo.apparent_magnitude(time='2017-06-22 00:00:00')"
   ]
  },
  {
   "cell_type": "markdown",
   "metadata": {},
   "source": [
    "When the apparent magnitude is downloaded from the Horizons service, usually the H and G parameters can be found. In this cases, the `Body` object stores these values for further use."
   ]
  },
  {
   "cell_type": "code",
   "execution_count": 33,
   "metadata": {},
   "outputs": [
    {
     "name": "stdout",
     "output_type": "stream",
     "text": [
      "Absolute Magnitude:\n",
      "    6.54 +/- 0 mag\n",
      "    Reference: JPL Horizons, \n",
      " Phase Slope:\n",
      "    0.15 +/- 0 \n",
      "    Reference: JPL Horizons, \n",
      "\n"
     ]
    }
   ],
   "source": [
    "print(chariklo.H, chariklo.G)"
   ]
  },
  {
   "cell_type": "code",
   "execution_count": 34,
   "metadata": {},
   "outputs": [
    {
     "data": {
      "text/plain": [
       "18.489144139264898"
      ]
     },
     "execution_count": 34,
     "metadata": {},
     "output_type": "execute_result"
    }
   ],
   "source": [
    "chariklo.apparent_magnitude(time='2017-06-22 00:00:00')"
   ]
  },
  {
   "cell_type": "markdown",
   "metadata": {},
   "source": [
    "<a id=\"section_6\"></a>\n",
    "\n",
    "## 6. The Ephemeris Classes\n",
    "\n",
    "As stated above, there are 3 different types of `Ephemeris` Classes.\n",
    "\n",
    "- `EphemPlanete` - Reads a file with a list of Geocentric coordinates and interpolates.\n",
    "- `EphemHorizons` - Queries the JPL Horizons website and download ephemeris informations.\n",
    "- `EphemKernel` - Reads the BSP files to calculate ephemeris.\n",
    "\n",
    "Usually, the user will only need one of those. As shown in [Section 3](#section_3), the user can tell the body object the kernels for a `EphemKernel` object or the string 'horizons' for a `EphemHorizons` object. In this section we show the Ephemeris behave and if the user wants to use it directly without a `Body` object."
   ]
  },
  {
   "cell_type": "code",
   "execution_count": 35,
   "metadata": {},
   "outputs": [],
   "source": [
    "## import the Ephemeris Classes\n",
    "from sora.ephem import EphemPlanete, EphemHorizons, EphemKernel\n",
    "\n",
    "## To facilitate, sora allows to import Ephem directly from the sora package.\n",
    "from sora import EphemPlanete, EphemHorizons, EphemKernel"
   ]
  },
  {
   "cell_type": "markdown",
   "metadata": {},
   "source": [
    "### 6.1. Instantiating an EphemPlanete Object\n",
    "\n",
    "In this case, a file must be given containing Julian Date, RA (in deg), DEC (in deg) and Distance (in AU), in this order, separated by an space. Please, look at the \"ephem_phoebe_ph15_jd.txt\" file for an example. Only the name of the object and the file with the ephemeris is required."
   ]
  },
  {
   "cell_type": "code",
   "execution_count": 36,
   "metadata": {},
   "outputs": [
    {
     "data": {
      "text/plain": [
       "\u001b[0;31mInit signature:\u001b[0m \u001b[0mEphemPlanete\u001b[0m\u001b[0;34m(\u001b[0m\u001b[0mephem\u001b[0m\u001b[0;34m,\u001b[0m \u001b[0mname\u001b[0m\u001b[0;34m=\u001b[0m\u001b[0;32mNone\u001b[0m\u001b[0;34m,\u001b[0m \u001b[0mspkid\u001b[0m\u001b[0;34m=\u001b[0m\u001b[0;32mNone\u001b[0m\u001b[0;34m,\u001b[0m \u001b[0;34m**\u001b[0m\u001b[0mkwargs\u001b[0m\u001b[0;34m)\u001b[0m\u001b[0;34m\u001b[0m\u001b[0;34m\u001b[0m\u001b[0m\n",
       "\u001b[0;31mDocstring:\u001b[0m     \n",
       "Class used to simulate former Fortran programs `ephem_planete` and\n",
       "`fit_d2_ksi_eta`.\n",
       "\n",
       "Attributes\n",
       "----------\n",
       "ephem : `file`, required\n",
       "    Input file with JD (UTC), geocentric RA (deg), DEC (deg), and\n",
       "    distance (AU).\n",
       "\n",
       "name : `str`, optional, default=None\n",
       "    Name of the object to search in the JPL database.\n",
       "\n",
       "radius : `int`, `float`, optional, default: online database\n",
       "    Object radius, in km.\n",
       "\n",
       "error_ra : `int`, `float`, optional, default: online database\n",
       "    Ephemeris RA*cosDEC error, in arcsec.\n",
       "\n",
       "error_dec : `int`, `float`, optional, default: online database\n",
       "    Ephemeris DEC error, in arcsec.\n",
       "\n",
       "mass : `int`, `float`, optional. default=0\n",
       "    Object mass, in kg.\n",
       "\n",
       "H : `int`, `float`, optional, default=NaN\n",
       "    Object absolute magnitude.\n",
       "\n",
       "G : `int`, `float`, optional, default=NaN\n",
       "    Object phase slope.\n",
       "\u001b[0;31mFile:\u001b[0m           ~/anaconda3/lib/python3.8/site-packages/sora/ephem/core.py\n",
       "\u001b[0;31mType:\u001b[0m           type\n",
       "\u001b[0;31mSubclasses:\u001b[0m     \n"
      ]
     },
     "metadata": {},
     "output_type": "display_data"
    }
   ],
   "source": [
    "EphemPlanete?"
   ]
  },
  {
   "cell_type": "code",
   "execution_count": 37,
   "metadata": {},
   "outputs": [],
   "source": [
    "eph_pla = EphemPlanete(name='Phoebe', ephem='input/ascii/ephem_phoebe_ph15_jd.txt')"
   ]
  },
  {
   "cell_type": "code",
   "execution_count": 38,
   "metadata": {},
   "outputs": [
    {
     "name": "stdout",
     "output_type": "stream",
     "text": [
      "----------- Ephemeris -----------\n",
      "\n",
      "EphemPlanete: Valid from 2019-06-07 02:54:00.000 until 2019-06-07 04:54:00.000 (SPKID=)\n",
      "Ephem Error: RA*cosDEC: 0.000 arcsec; DEC: 0.000 arcsec\n",
      "Offset applied: RA*cosDEC: 0.0000 arcsec; DEC: 0.0000 arcsec\n",
      "\n"
     ]
    }
   ],
   "source": [
    "print(eph_pla)"
   ]
  },
  {
   "cell_type": "markdown",
   "metadata": {},
   "source": [
    "### 6.2. Instantiating an EphemHorizons Object\n",
    "\n",
    "In this case, only the name of the object is required as this will be used to queries the JPL database. Another important keyword is the \"id_type\", which will be used to constrain the search of the object. For instance, if the name is \"Europa\" and the id_type is \"smallbody\" it looks the asteroid (52) Europa, while if id_type is \"majorbody\" it looks for the Jovian satellite J2 Europa. However, in some cases, there are still conflict name issue which solutions are being verified. A common solver is to use the IAU ID number in the name variable"
   ]
  },
  {
   "cell_type": "code",
   "execution_count": 39,
   "metadata": {},
   "outputs": [
    {
     "data": {
      "text/plain": [
       "\u001b[0;31mInit signature:\u001b[0m \u001b[0mEphemHorizons\u001b[0m\u001b[0;34m(\u001b[0m\u001b[0mname\u001b[0m\u001b[0;34m,\u001b[0m \u001b[0mid_type\u001b[0m\u001b[0;34m=\u001b[0m\u001b[0;34m'smallbody'\u001b[0m\u001b[0;34m,\u001b[0m \u001b[0mspkid\u001b[0m\u001b[0;34m=\u001b[0m\u001b[0;32mNone\u001b[0m\u001b[0;34m,\u001b[0m \u001b[0;34m**\u001b[0m\u001b[0mkwargs\u001b[0m\u001b[0;34m)\u001b[0m\u001b[0;34m\u001b[0m\u001b[0;34m\u001b[0m\u001b[0m\n",
       "\u001b[0;31mDocstring:\u001b[0m     \n",
       "Obtains the ephemeris from Horizons/JPL service.\n",
       "\n",
       "Note\n",
       "----\n",
       "Web tool URL: https://ssd.jpl.nasa.gov/horizons.cgi\n",
       "\n",
       "\n",
       "Attributes\n",
       "----------\n",
       "name : `str`, required\n",
       "    Name of the object to search in the JPL database.\n",
       "\n",
       "id_type: `str`, default='smallbody'\n",
       "    Type of object options: ``smallbody``, ``majorbody`` (planets but\n",
       "    also anything that is not a small body), ``designation``, ``name``,\n",
       "    ``asteroid_name``, ``comet_name``, ``id`` (Horizons id number), or\n",
       "    ``smallbody`` (find the closest match under any id_type).\n",
       "\n",
       "radius : `int`, `float`, default: online database\n",
       "    Object radius, in km.\n",
       "\n",
       "error_ra : `int`, `float`, default: online database\n",
       "    Ephemeris RA*cosDEC error, in arcsec.\n",
       "\n",
       "error_dec : `int`, `float`, default: online database\n",
       "    Ephemeris DEC error, in arcsec.\n",
       "\n",
       "mass : `int`, `float`, default=0\n",
       "    Object mass, in kg.\n",
       "\n",
       "H : `int`, `float`, default=NaN\n",
       "    Object absolute magnitude.\n",
       "\n",
       "G : `int`, `float`, default=NaN\n",
       "    Object phase slope.\n",
       "\u001b[0;31mFile:\u001b[0m           ~/anaconda3/lib/python3.8/site-packages/sora/ephem/core.py\n",
       "\u001b[0;31mType:\u001b[0m           type\n",
       "\u001b[0;31mSubclasses:\u001b[0m     EphemJPL\n"
      ]
     },
     "metadata": {},
     "output_type": "display_data"
    }
   ],
   "source": [
    "EphemHorizons?"
   ]
  },
  {
   "cell_type": "code",
   "execution_count": 40,
   "metadata": {},
   "outputs": [],
   "source": [
    "eph_hor = EphemHorizons(name='Chariklo')"
   ]
  },
  {
   "cell_type": "code",
   "execution_count": 41,
   "metadata": {},
   "outputs": [
    {
     "name": "stdout",
     "output_type": "stream",
     "text": [
      "----------- Ephemeris -----------\n",
      "\n",
      "EphemHorizons: Ephemeris are downloaded from Horizons website (SPKID=)\n",
      "Ephem Error: RA*cosDEC: 0.000 arcsec; DEC: 0.000 arcsec\n",
      "Offset applied: RA*cosDEC: 0.0000 arcsec; DEC: 0.0000 arcsec\n",
      "\n"
     ]
    }
   ],
   "source": [
    "print(eph_hor)"
   ]
  },
  {
   "cell_type": "markdown",
   "metadata": {},
   "source": [
    "### 6.3. Instantiating an EphemKernel Object\n",
    "\n",
    "This is the most effective `Ephemeris` Class. Since it reads the BSP files directly, it is faster. What is needed here is the spkid of the object, and the list of kernels. Even if only one kernel is passed, it must be a list."
   ]
  },
  {
   "cell_type": "code",
   "execution_count": 42,
   "metadata": {},
   "outputs": [
    {
     "data": {
      "text/plain": [
       "\u001b[0;31mInit signature:\u001b[0m \u001b[0mEphemKernel\u001b[0m\u001b[0;34m(\u001b[0m\u001b[0mkernels\u001b[0m\u001b[0;34m,\u001b[0m \u001b[0mspkid\u001b[0m\u001b[0;34m,\u001b[0m \u001b[0mname\u001b[0m\u001b[0;34m=\u001b[0m\u001b[0;32mNone\u001b[0m\u001b[0;34m,\u001b[0m \u001b[0;34m**\u001b[0m\u001b[0mkwargs\u001b[0m\u001b[0;34m)\u001b[0m\u001b[0;34m\u001b[0m\u001b[0;34m\u001b[0m\u001b[0m\n",
       "\u001b[0;31mDocstring:\u001b[0m     \n",
       "Gets the ephemeris from BSP kernels.\n",
       "\n",
       "Parameters\n",
       "----------\n",
       "name : `str`,  optional, default=None\n",
       "    Name of the object to search in the JPL database.\n",
       "\n",
       "spkid : `str`, required\n",
       "    `spkid` of the targeting object. Former 'code' (v0.1).\n",
       "\n",
       "kernels : `list`, required\n",
       "    List of paths for kernels files.\n",
       "\n",
       "radius : `int`, `float`, optional, default: online database\n",
       "    Object radius, in km.\n",
       "\n",
       "error_ra : `int`, `float`, optional, default: online database\n",
       "    Ephemeris RA*cosDEC error, in arcsec .\n",
       "\n",
       "error_dec : `int`, `float`, optional, default: online database\n",
       "    Ephemeris DEC error, in arcsec.\n",
       "\n",
       "mass : `int`, `float`, optional, default=0\n",
       "    Object Mass, in kg.\n",
       "\n",
       "H : `int`, `float`, optional, default=NaN\n",
       "    Object Absolute Magnitude.\n",
       "\n",
       "G : `int`, `float`, optional, default=NaN\n",
       "    Object Phase slope.\n",
       "\u001b[0;31mFile:\u001b[0m           ~/anaconda3/lib/python3.8/site-packages/sora/ephem/core.py\n",
       "\u001b[0;31mType:\u001b[0m           type\n",
       "\u001b[0;31mSubclasses:\u001b[0m     \n"
      ]
     },
     "metadata": {},
     "output_type": "display_data"
    }
   ],
   "source": [
    "EphemKernel?"
   ]
  },
  {
   "cell_type": "code",
   "execution_count": 43,
   "metadata": {},
   "outputs": [],
   "source": [
    "eph_ker = EphemKernel(name='Chariklo', spkid='2010199', kernels=['input/bsp/Chariklo.bsp', 'input/bsp/de438_small.bsp'])"
   ]
  },
  {
   "cell_type": "code",
   "execution_count": 44,
   "metadata": {},
   "outputs": [
    {
     "name": "stdout",
     "output_type": "stream",
     "text": [
      "----------- Ephemeris -----------\n",
      "\n",
      "EphemKernel: CHARIKLO/DE438_SMALL (SPKID=2010199)\n",
      "Ephem Error: RA*cosDEC: 0.000 arcsec; DEC: 0.000 arcsec\n",
      "Offset applied: RA*cosDEC: 0.0000 arcsec; DEC: 0.0000 arcsec\n",
      "\n"
     ]
    }
   ],
   "source": [
    "print(eph_ker)"
   ]
  },
  {
   "cell_type": "markdown",
   "metadata": {},
   "source": [
    "### 6.4 Other parameters\n",
    "\n",
    "All the 3 `Ephemeris` Classes allow for the user to pass the ephemeris error in RA*cosDEC and DEC."
   ]
  },
  {
   "cell_type": "code",
   "execution_count": 45,
   "metadata": {},
   "outputs": [],
   "source": [
    "eph_ker = EphemKernel(name='Chariklo', spkid='2010199', kernels=['input/bsp/Chariklo.bsp', 'input/bsp/de438_small.bsp'], error_ra=0.02, error_dec=0.02)"
   ]
  },
  {
   "cell_type": "code",
   "execution_count": 46,
   "metadata": {},
   "outputs": [
    {
     "name": "stdout",
     "output_type": "stream",
     "text": [
      "----------- Ephemeris -----------\n",
      "\n",
      "EphemKernel: CHARIKLO/DE438_SMALL (SPKID=2010199)\n",
      "Ephem Error: RA*cosDEC: 0.020 arcsec; DEC: 0.020 arcsec\n",
      "Offset applied: RA*cosDEC: 0.0000 arcsec; DEC: 0.0000 arcsec\n",
      "\n"
     ]
    }
   ],
   "source": [
    "print(eph_ker)"
   ]
  },
  {
   "cell_type": "markdown",
   "metadata": {},
   "source": [
    "### 6.5. Obtaining positions\n",
    "\n",
    "The `Ephemeris` allows the user to get the astrometric position of the object for a certain epoch. The returned variable is an Astropy SkyCoord object, so their functions can be used."
   ]
  },
  {
   "cell_type": "code",
   "execution_count": 47,
   "metadata": {},
   "outputs": [
    {
     "data": {
      "text/plain": [
       "\u001b[0;31mSignature:\u001b[0m \u001b[0mchariklo\u001b[0m\u001b[0;34m.\u001b[0m\u001b[0mephem\u001b[0m\u001b[0;34m.\u001b[0m\u001b[0mget_position\u001b[0m\u001b[0;34m(\u001b[0m\u001b[0mtime\u001b[0m\u001b[0;34m,\u001b[0m \u001b[0mobserver\u001b[0m\u001b[0;34m=\u001b[0m\u001b[0;34m'geocenter'\u001b[0m\u001b[0;34m)\u001b[0m\u001b[0;34m\u001b[0m\u001b[0;34m\u001b[0m\u001b[0m\n",
       "\u001b[0;31mDocstring:\u001b[0m\n",
       "Returns the object geocentric position.\n",
       "\n",
       "Parameters\n",
       "----------\n",
       "time : `str`, `astropy.time.Time`\n",
       "    Reference time to calculate the object position. It can be a string\n",
       "    in the ISO format (yyyy-mm-dd hh:mm:ss.s) or an astropy Time object.\n",
       "\n",
       "observer : `str`, `sora.Observer`, `sora.Spacecraft`\n",
       "    IAU code of the observer (must be present in given list of kernels),\n",
       "    a SORA observer object or a string: ['geocenter', 'barycenter']\n",
       "\n",
       "Returns\n",
       "-------\n",
       "coord : `astropy.coordinates.SkyCoord`\n",
       "    Astropy SkyCoord object with the object coordinates at the given time.\n",
       "\u001b[0;31mFile:\u001b[0m      ~/anaconda3/lib/python3.8/site-packages/sora/ephem/core.py\n",
       "\u001b[0;31mType:\u001b[0m      method\n"
      ]
     },
     "metadata": {},
     "output_type": "display_data"
    }
   ],
   "source": [
    "chariklo.ephem.get_position?"
   ]
  },
  {
   "cell_type": "code",
   "execution_count": 48,
   "metadata": {},
   "outputs": [
    {
     "name": "stdout",
     "output_type": "stream",
     "text": [
      "<SkyCoord (ICRS): (ra, dec, distance) in (deg, deg, km)\n",
      "    (283.86685123, -31.52237927, 2.19331444e+09)>\n"
     ]
    }
   ],
   "source": [
    "pos = chariklo.ephem.get_position(time='2017-06-22 00:00:00', observer='geocenter')\n",
    "print(pos)"
   ]
  },
  {
   "cell_type": "code",
   "execution_count": 49,
   "metadata": {},
   "outputs": [
    {
     "name": "stdout",
     "output_type": "stream",
     "text": [
      "RA = 283d52m00.6644s\n",
      "DEC = -31d31m20.5654s\n",
      "Distance = 14.661401433721714 AU\n",
      "Coordinate = 18 55 28.04429 -31 31 20.56536\n"
     ]
    }
   ],
   "source": [
    "print('RA =', pos.ra)\n",
    "print('DEC =', pos.dec)\n",
    "print('Distance =', pos.distance.to('AU'))\n",
    "print('Coordinate =', pos.to_string('hmsdms', precision=5, sep=' '))"
   ]
  },
  {
   "cell_type": "code",
   "execution_count": 50,
   "metadata": {},
   "outputs": [
    {
     "data": {
      "text/plain": [
       "<SkyCoord (ICRS): (ra, dec, distance) in (deg, deg, AU)\n",
       "    (282.96780732, -31.04492938, 15.64402537)>"
      ]
     },
     "execution_count": 50,
     "metadata": {},
     "output_type": "execute_result"
    }
   ],
   "source": [
    "eph_hor.get_position(time='2017-06-22 00:00:00', observer='barycenter')"
   ]
  },
  {
   "cell_type": "markdown",
   "metadata": {},
   "source": [
    "**The astrometric position can also be obtained for a specific observer.**\n",
    "\n",
    "This is restricted for the EphemPlanete Class since the input coordinates already have an observer associated."
   ]
  },
  {
   "cell_type": "code",
   "execution_count": 51,
   "metadata": {},
   "outputs": [
    {
     "data": {
      "text/plain": [
       "<SkyCoord (ICRS): (ra, dec, distance) in (deg, deg, km)\n",
       "    (283.86701022, -31.52236659, 2.19331059e+09)>"
      ]
     },
     "execution_count": 51,
     "metadata": {},
     "output_type": "execute_result"
    }
   ],
   "source": [
    "from sora import Observer\n",
    "opd = Observer(name='Pico dos Dias Observatory', code='874')\n",
    "\n",
    "chariklo.ephem.get_position(time='2017-06-22 00:00:00', observer=opd)"
   ]
  },
  {
   "cell_type": "markdown",
   "metadata": {},
   "source": [
    "### 6.6. Ksi and Eta projection\n",
    "\n",
    "`Ephemeris` objects calculates the orthographic projection (ksi and eta) of a site in the direction of a star given the following function. Ksi is in the East direction and Eta is in the North direction.\n",
    "\n",
    "The coordinates of the star given must be in the Geocentric Celestial Reference System (GCRS).\n",
    "\n",
    "This is calculated automaticaly in `Occultation`."
   ]
  },
  {
   "cell_type": "code",
   "execution_count": 52,
   "metadata": {},
   "outputs": [
    {
     "data": {
      "text/plain": [
       "\u001b[0;31mSignature:\u001b[0m \u001b[0mchariklo\u001b[0m\u001b[0;34m.\u001b[0m\u001b[0mephem\u001b[0m\u001b[0;34m.\u001b[0m\u001b[0mget_ksi_eta\u001b[0m\u001b[0;34m(\u001b[0m\u001b[0mtime\u001b[0m\u001b[0;34m,\u001b[0m \u001b[0mstar\u001b[0m\u001b[0;34m)\u001b[0m\u001b[0;34m\u001b[0m\u001b[0;34m\u001b[0m\u001b[0m\n",
       "\u001b[0;31mDocstring:\u001b[0m\n",
       "Returns the object's projected position relative to a star.\n",
       "\n",
       "Returns the projected position (orthographic projection) of the object\n",
       "in the tangent sky plane relative to a star.\n",
       "\n",
       "Parameters\n",
       "----------\n",
       "time : `str`, `astropy.time.Time`\n",
       "    Reference time to calculate the object position. It can be a string\n",
       "    in the ISO format (yyyy-mm-dd hh:mm:ss.s) or an astropy Time object.\n",
       "\n",
       "star : `str`, `astropy.coordinates.SkyCoord`\n",
       "    Coordinate of the star in the same reference frame as the ephemeris.\n",
       "\n",
       "Returns\n",
       "-------\n",
       "ksi, eta : `float`\n",
       "    Projected position (orthographic projection) of the object in the\n",
       "    tangent sky plane relative to a star.\n",
       "    ``ksi`` is in the North-South direction (North positive).\n",
       "    ``eta`` is in the East-West direction (East positive).\n",
       "\u001b[0;31mFile:\u001b[0m      ~/anaconda3/lib/python3.8/site-packages/sora/ephem/meta.py\n",
       "\u001b[0;31mType:\u001b[0m      method\n"
      ]
     },
     "metadata": {},
     "output_type": "display_data"
    }
   ],
   "source": [
    "chariklo.ephem.get_ksi_eta?"
   ]
  },
  {
   "cell_type": "code",
   "execution_count": 53,
   "metadata": {},
   "outputs": [
    {
     "data": {
      "text/plain": [
       "(1059.3876121640205, 522.2713452577591)"
      ]
     },
     "execution_count": 53,
     "metadata": {},
     "output_type": "execute_result"
    }
   ],
   "source": [
    "chariklo.ephem.get_ksi_eta(time='2017-06-22 21:18:00', star='18 55 15.65250 -31 31 21.67051')"
   ]
  },
  {
   "cell_type": "code",
   "execution_count": 54,
   "metadata": {},
   "outputs": [
    {
     "data": {
      "text/plain": [
       "(1162.3619220829423, 559.5318299481982)"
      ]
     },
     "execution_count": 54,
     "metadata": {},
     "output_type": "execute_result"
    }
   ],
   "source": [
    "eph_hor.get_ksi_eta(time='2017-06-22 21:18:00', star='18 55 15.65250 -31 31 21.67051')"
   ]
  },
  {
   "cell_type": "markdown",
   "metadata": {},
   "source": [
    "**In the case of** `EphemPlanete` **, the time given must be in the range of the input ephemeris.**"
   ]
  },
  {
   "cell_type": "code",
   "execution_count": 55,
   "metadata": {},
   "outputs": [
    {
     "name": "stdout",
     "output_type": "stream",
     "text": [
      "----------- Ephemeris -----------\n",
      "\n",
      "EphemPlanete: Valid from 2019-06-07 02:54:00.000 until 2019-06-07 04:54:00.000 (SPKID=)\n",
      "Ephem Error: RA*cosDEC: 0.000 arcsec; DEC: 0.000 arcsec\n",
      "Offset applied: RA*cosDEC: 0.0000 arcsec; DEC: 0.0000 arcsec\n",
      "\n"
     ]
    }
   ],
   "source": [
    "print(eph_pla)"
   ]
  },
  {
   "cell_type": "code",
   "execution_count": 56,
   "metadata": {},
   "outputs": [
    {
     "name": "stdout",
     "output_type": "stream",
     "text": [
      "Fitting ephemeris position relative to star coordinate 19h21m18.632s -21d44m25.3924s\n",
      "ksi = aksi*t² + bksi*t + cksi\n",
      "eta = aeta*t² + beta*t + ceta\n",
      "t=(jd-2458641.62083333)/(2458641.70416667-2458641.62083333)\n",
      "        aksi=-74.33578570364584\n",
      "        bksi=-120036.66964478238\n",
      "        cksi=56728.18870944259\n",
      "        aeta=-11.579369275888473\n",
      "        beta=-17144.758848118654\n",
      "        ceta=6972.3299907265955\n",
      "Residual RMS: ksi=0.004 km, eta=0.001 km\n"
     ]
    },
    {
     "data": {
      "text/plain": [
       "(-3685.746063311948, -1656.7962535909337)"
      ]
     },
     "execution_count": 56,
     "metadata": {},
     "output_type": "execute_result"
    }
   ],
   "source": [
    "eph_pla.get_ksi_eta(time='2019-06-07 03:54:22.60', star='19 21 18.63201 -21 44 25.3924')"
   ]
  },
  {
   "cell_type": "markdown",
   "metadata": {},
   "source": [
    "**For** `EphemPlanete` **, the user can also make the fit before running get_ksi_eta. If the fit is done, get_ksi_eta will only need the time param.**"
   ]
  },
  {
   "cell_type": "code",
   "execution_count": 57,
   "metadata": {},
   "outputs": [
    {
     "data": {
      "text/plain": [
       "\u001b[0;31mSignature:\u001b[0m \u001b[0meph_pla\u001b[0m\u001b[0;34m.\u001b[0m\u001b[0mfit_d2_ksi_eta\u001b[0m\u001b[0;34m(\u001b[0m\u001b[0mstar\u001b[0m\u001b[0;34m,\u001b[0m \u001b[0mverbose\u001b[0m\u001b[0;34m=\u001b[0m\u001b[0;32mTrue\u001b[0m\u001b[0;34m)\u001b[0m\u001b[0;34m\u001b[0m\u001b[0;34m\u001b[0m\u001b[0m\n",
       "\u001b[0;31mDocstring:\u001b[0m\n",
       "Fits the projected position (orthographic projection) of the object in\n",
       "the tangent sky plane relative to a star.\n",
       "\n",
       "Parameters\n",
       "----------\n",
       "star : `str`, `astropy.coordinates.SkyCoord`\n",
       "    The coordinate of the star in the same reference frame as the ephemeris.\n",
       "\n",
       "verbose : `bool`, optional, default=True\n",
       "    Enable log printing.\n",
       "\u001b[0;31mFile:\u001b[0m      ~/anaconda3/lib/python3.8/site-packages/sora/ephem/core.py\n",
       "\u001b[0;31mType:\u001b[0m      method\n"
      ]
     },
     "metadata": {},
     "output_type": "display_data"
    }
   ],
   "source": [
    "eph_pla.fit_d2_ksi_eta?"
   ]
  },
  {
   "cell_type": "code",
   "execution_count": 58,
   "metadata": {},
   "outputs": [
    {
     "name": "stdout",
     "output_type": "stream",
     "text": [
      "Fitting ephemeris position relative to star coordinate 19h21m18.632s -21d44m25.3923s\n",
      "ksi = aksi*t² + bksi*t + cksi\n",
      "eta = aeta*t² + beta*t + ceta\n",
      "t=(jd-2458641.62083333)/(2458641.70416667-2458641.62083333)\n",
      "        aksi=-74.33578570364584\n",
      "        bksi=-120036.66964478238\n",
      "        cksi=56728.18870944259\n",
      "        aeta=-11.579369458933602\n",
      "        beta=-17144.7587881425\n",
      "        ceta=6971.659735843644\n",
      "Residual RMS: ksi=0.004 km, eta=0.001 km\n"
     ]
    }
   ],
   "source": [
    "eph_pla.fit_d2_ksi_eta(star='19 21 18.63201 -21 44 25.3923')"
   ]
  },
  {
   "cell_type": "code",
   "execution_count": 59,
   "metadata": {},
   "outputs": [
    {
     "data": {
      "text/plain": [
       "(-3685.746063311948, -1657.4664783438866)"
      ]
     },
     "execution_count": 59,
     "metadata": {},
     "output_type": "execute_result"
    }
   ],
   "source": [
    "eph_pla.get_ksi_eta(time='2019-06-07 03:54:22.60')"
   ]
  },
  {
   "cell_type": "markdown",
   "metadata": {},
   "source": [
    "### 6.7. Adding Offsets\n",
    "\n",
    "If an ephemeris offset was obtained from astrometry, it can be added to the `Ephemeris` objects using add_offset. This values are given in $\\Delta\\alpha\\cos\\delta$ and $\\Delta\\delta$ in mas."
   ]
  },
  {
   "cell_type": "code",
   "execution_count": 60,
   "metadata": {},
   "outputs": [
    {
     "data": {
      "text/plain": [
       "\u001b[0;31mSignature:\u001b[0m \u001b[0meph_ker\u001b[0m\u001b[0;34m.\u001b[0m\u001b[0madd_offset\u001b[0m\u001b[0;34m(\u001b[0m\u001b[0mda_cosdec\u001b[0m\u001b[0;34m,\u001b[0m \u001b[0mddec\u001b[0m\u001b[0;34m)\u001b[0m\u001b[0;34m\u001b[0m\u001b[0;34m\u001b[0m\u001b[0m\n",
       "\u001b[0;31mDocstring:\u001b[0m\n",
       "Adds an offset to the Ephemeris.\n",
       "\n",
       "Parameters\n",
       "----------\n",
       "da_cosdec : `int`, `float`\n",
       "    Delta_alpha_cos_delta, in mas.\n",
       "\n",
       "ddec : `int`, `float`\n",
       "    Delta_delta, in mas.\n",
       "\u001b[0;31mFile:\u001b[0m      ~/anaconda3/lib/python3.8/site-packages/sora/ephem/meta.py\n",
       "\u001b[0;31mType:\u001b[0m      method\n"
      ]
     },
     "metadata": {},
     "output_type": "display_data"
    }
   ],
   "source": [
    "eph_ker.add_offset?"
   ]
  },
  {
   "cell_type": "code",
   "execution_count": 61,
   "metadata": {},
   "outputs": [
    {
     "name": "stdout",
     "output_type": "stream",
     "text": [
      "18h55m28.0443s -31d31m20.5654s\n"
     ]
    }
   ],
   "source": [
    "print(chariklo.ephem.get_position(time='2017-06-22 00:00:00').to_string('hmsdms'))\n",
    "eph = chariklo.ephem"
   ]
  },
  {
   "cell_type": "code",
   "execution_count": 62,
   "metadata": {},
   "outputs": [],
   "source": [
    "eph.add_offset(40, 50)\n",
    "eph_hor.add_offset(40, 50)\n",
    "eph_pla.add_offset(40, 50)"
   ]
  },
  {
   "cell_type": "code",
   "execution_count": 63,
   "metadata": {},
   "outputs": [
    {
     "data": {
      "text/plain": [
       "'18h55m28.0474s -31d31m20.5154s'"
      ]
     },
     "execution_count": 63,
     "metadata": {},
     "output_type": "execute_result"
    }
   ],
   "source": [
    "eph.get_position(time='2017-06-22 00:00:00').to_string('hmsdms')"
   ]
  },
  {
   "cell_type": "markdown",
   "metadata": {},
   "source": [
    "**This Jupyter-Notebook was designed as a tutorial for how to work with the** `Body` **and** `Ephemeris` **Classes. More information about the other classes, please refer to their specif Jupyter-Notebook. Any further question, please contact the core team: Altair Ramos Gomes Júnior, Bruno Eduardo Morgado, Gustavo Benedetti Rossi, and Rodrigo Carlos Boufleur.**\n",
    "\n",
    "**The End**"
   ]
  }
 ],
 "metadata": {
  "kernelspec": {
   "display_name": "Python 3",
   "language": "python",
   "name": "python3"
  },
  "language_info": {
   "codemirror_mode": {
    "name": "ipython",
    "version": 3
   },
   "file_extension": ".py",
   "mimetype": "text/x-python",
   "name": "python",
   "nbconvert_exporter": "python",
   "pygments_lexer": "ipython3",
   "version": "3.8.5"
  }
 },
 "nbformat": 4,
 "nbformat_minor": 4
}
